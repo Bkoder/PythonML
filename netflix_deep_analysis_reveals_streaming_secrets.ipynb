{
  "cells": [
    {
      "cell_type": "markdown",
      "metadata": {
        "id": "view-in-github",
        "colab_type": "text"
      },
      "source": [
        "<a href=\"https://colab.research.google.com/github/Bkoder/PythonML/blob/main/netflix_deep_analysis_reveals_streaming_secrets.ipynb\" target=\"_parent\"><img src=\"https://colab.research.google.com/assets/colab-badge.svg\" alt=\"Open In Colab\"/></a>"
      ]
    },
    {
      "cell_type": "code",
      "execution_count": null,
      "id": "82772437",
      "metadata": {
        "execution": {
          "iopub.execute_input": "2023-04-23T22:00:39.752600Z",
          "iopub.status.busy": "2023-04-23T22:00:39.752168Z",
          "iopub.status.idle": "2023-04-23T22:00:41.005453Z",
          "shell.execute_reply": "2023-04-23T22:00:41.004326Z"
        },
        "id": "82772437",
        "papermill": {
          "duration": 1.275681,
          "end_time": "2023-04-23T22:00:41.008891",
          "exception": false,
          "start_time": "2023-04-23T22:00:39.733210",
          "status": "completed"
        },
        "tags": []
      },
      "outputs": [],
      "source": [
        "import numpy as np\n",
        "import pandas as pd\n",
        "import matplotlib.pyplot as plt\n",
        "import seaborn as sns"
      ]
    },
    {
      "cell_type": "code",
      "execution_count": null,
      "id": "97ba0678",
      "metadata": {
        "execution": {
          "iopub.execute_input": "2023-04-23T22:00:41.044803Z",
          "iopub.status.busy": "2023-04-23T22:00:41.044040Z",
          "iopub.status.idle": "2023-04-23T22:00:41.234599Z",
          "shell.execute_reply": "2023-04-23T22:00:41.233124Z"
        },
        "id": "97ba0678",
        "outputId": "3689083c-8608-428d-c529-e14d87b0cfaa",
        "papermill": {
          "duration": 0.21273,
          "end_time": "2023-04-23T22:00:41.238015",
          "exception": false,
          "start_time": "2023-04-23T22:00:41.025285",
          "status": "completed"
        },
        "tags": []
      },
      "outputs": [
        {
          "data": {
            "text/html": [
              "<div>\n",
              "<style scoped>\n",
              "    .dataframe tbody tr th:only-of-type {\n",
              "        vertical-align: middle;\n",
              "    }\n",
              "\n",
              "    .dataframe tbody tr th {\n",
              "        vertical-align: top;\n",
              "    }\n",
              "\n",
              "    .dataframe thead th {\n",
              "        text-align: right;\n",
              "    }\n",
              "</style>\n",
              "<table border=\"1\" class=\"dataframe\">\n",
              "  <thead>\n",
              "    <tr style=\"text-align: right;\">\n",
              "      <th></th>\n",
              "      <th>show_id</th>\n",
              "      <th>type</th>\n",
              "      <th>title</th>\n",
              "      <th>director</th>\n",
              "      <th>cast</th>\n",
              "      <th>country</th>\n",
              "      <th>date_added</th>\n",
              "      <th>release_year</th>\n",
              "      <th>rating</th>\n",
              "      <th>duration</th>\n",
              "      <th>listed_in</th>\n",
              "      <th>description</th>\n",
              "    </tr>\n",
              "  </thead>\n",
              "  <tbody>\n",
              "    <tr>\n",
              "      <th>0</th>\n",
              "      <td>s1</td>\n",
              "      <td>Movie</td>\n",
              "      <td>Dick Johnson Is Dead</td>\n",
              "      <td>Kirsten Johnson</td>\n",
              "      <td>NaN</td>\n",
              "      <td>United States</td>\n",
              "      <td>September 25, 2021</td>\n",
              "      <td>2020</td>\n",
              "      <td>PG-13</td>\n",
              "      <td>90 min</td>\n",
              "      <td>Documentaries</td>\n",
              "      <td>As her father nears the end of his life, filmm...</td>\n",
              "    </tr>\n",
              "    <tr>\n",
              "      <th>1</th>\n",
              "      <td>s2</td>\n",
              "      <td>TV Show</td>\n",
              "      <td>Blood &amp; Water</td>\n",
              "      <td>NaN</td>\n",
              "      <td>Ama Qamata, Khosi Ngema, Gail Mabalane, Thaban...</td>\n",
              "      <td>South Africa</td>\n",
              "      <td>September 24, 2021</td>\n",
              "      <td>2021</td>\n",
              "      <td>TV-MA</td>\n",
              "      <td>2 Seasons</td>\n",
              "      <td>International TV Shows, TV Dramas, TV Mysteries</td>\n",
              "      <td>After crossing paths at a party, a Cape Town t...</td>\n",
              "    </tr>\n",
              "    <tr>\n",
              "      <th>2</th>\n",
              "      <td>s3</td>\n",
              "      <td>TV Show</td>\n",
              "      <td>Ganglands</td>\n",
              "      <td>Julien Leclercq</td>\n",
              "      <td>Sami Bouajila, Tracy Gotoas, Samuel Jouy, Nabi...</td>\n",
              "      <td>NaN</td>\n",
              "      <td>September 24, 2021</td>\n",
              "      <td>2021</td>\n",
              "      <td>TV-MA</td>\n",
              "      <td>1 Season</td>\n",
              "      <td>Crime TV Shows, International TV Shows, TV Act...</td>\n",
              "      <td>To protect his family from a powerful drug lor...</td>\n",
              "    </tr>\n",
              "    <tr>\n",
              "      <th>3</th>\n",
              "      <td>s4</td>\n",
              "      <td>TV Show</td>\n",
              "      <td>Jailbirds New Orleans</td>\n",
              "      <td>NaN</td>\n",
              "      <td>NaN</td>\n",
              "      <td>NaN</td>\n",
              "      <td>September 24, 2021</td>\n",
              "      <td>2021</td>\n",
              "      <td>TV-MA</td>\n",
              "      <td>1 Season</td>\n",
              "      <td>Docuseries, Reality TV</td>\n",
              "      <td>Feuds, flirtations and toilet talk go down amo...</td>\n",
              "    </tr>\n",
              "    <tr>\n",
              "      <th>4</th>\n",
              "      <td>s5</td>\n",
              "      <td>TV Show</td>\n",
              "      <td>Kota Factory</td>\n",
              "      <td>NaN</td>\n",
              "      <td>Mayur More, Jitendra Kumar, Ranjan Raj, Alam K...</td>\n",
              "      <td>India</td>\n",
              "      <td>September 24, 2021</td>\n",
              "      <td>2021</td>\n",
              "      <td>TV-MA</td>\n",
              "      <td>2 Seasons</td>\n",
              "      <td>International TV Shows, Romantic TV Shows, TV ...</td>\n",
              "      <td>In a city of coaching centers known to train I...</td>\n",
              "    </tr>\n",
              "    <tr>\n",
              "      <th>...</th>\n",
              "      <td>...</td>\n",
              "      <td>...</td>\n",
              "      <td>...</td>\n",
              "      <td>...</td>\n",
              "      <td>...</td>\n",
              "      <td>...</td>\n",
              "      <td>...</td>\n",
              "      <td>...</td>\n",
              "      <td>...</td>\n",
              "      <td>...</td>\n",
              "      <td>...</td>\n",
              "      <td>...</td>\n",
              "    </tr>\n",
              "    <tr>\n",
              "      <th>8802</th>\n",
              "      <td>s8803</td>\n",
              "      <td>Movie</td>\n",
              "      <td>Zodiac</td>\n",
              "      <td>David Fincher</td>\n",
              "      <td>Mark Ruffalo, Jake Gyllenhaal, Robert Downey J...</td>\n",
              "      <td>United States</td>\n",
              "      <td>November 20, 2019</td>\n",
              "      <td>2007</td>\n",
              "      <td>R</td>\n",
              "      <td>158 min</td>\n",
              "      <td>Cult Movies, Dramas, Thrillers</td>\n",
              "      <td>A political cartoonist, a crime reporter and a...</td>\n",
              "    </tr>\n",
              "    <tr>\n",
              "      <th>8803</th>\n",
              "      <td>s8804</td>\n",
              "      <td>TV Show</td>\n",
              "      <td>Zombie Dumb</td>\n",
              "      <td>NaN</td>\n",
              "      <td>NaN</td>\n",
              "      <td>NaN</td>\n",
              "      <td>July 1, 2019</td>\n",
              "      <td>2018</td>\n",
              "      <td>TV-Y7</td>\n",
              "      <td>2 Seasons</td>\n",
              "      <td>Kids' TV, Korean TV Shows, TV Comedies</td>\n",
              "      <td>While living alone in a spooky town, a young g...</td>\n",
              "    </tr>\n",
              "    <tr>\n",
              "      <th>8804</th>\n",
              "      <td>s8805</td>\n",
              "      <td>Movie</td>\n",
              "      <td>Zombieland</td>\n",
              "      <td>Ruben Fleischer</td>\n",
              "      <td>Jesse Eisenberg, Woody Harrelson, Emma Stone, ...</td>\n",
              "      <td>United States</td>\n",
              "      <td>November 1, 2019</td>\n",
              "      <td>2009</td>\n",
              "      <td>R</td>\n",
              "      <td>88 min</td>\n",
              "      <td>Comedies, Horror Movies</td>\n",
              "      <td>Looking to survive in a world taken over by zo...</td>\n",
              "    </tr>\n",
              "    <tr>\n",
              "      <th>8805</th>\n",
              "      <td>s8806</td>\n",
              "      <td>Movie</td>\n",
              "      <td>Zoom</td>\n",
              "      <td>Peter Hewitt</td>\n",
              "      <td>Tim Allen, Courteney Cox, Chevy Chase, Kate Ma...</td>\n",
              "      <td>United States</td>\n",
              "      <td>January 11, 2020</td>\n",
              "      <td>2006</td>\n",
              "      <td>PG</td>\n",
              "      <td>88 min</td>\n",
              "      <td>Children &amp; Family Movies, Comedies</td>\n",
              "      <td>Dragged from civilian life, a former superhero...</td>\n",
              "    </tr>\n",
              "    <tr>\n",
              "      <th>8806</th>\n",
              "      <td>s8807</td>\n",
              "      <td>Movie</td>\n",
              "      <td>Zubaan</td>\n",
              "      <td>Mozez Singh</td>\n",
              "      <td>Vicky Kaushal, Sarah-Jane Dias, Raaghav Chanan...</td>\n",
              "      <td>India</td>\n",
              "      <td>March 2, 2019</td>\n",
              "      <td>2015</td>\n",
              "      <td>TV-14</td>\n",
              "      <td>111 min</td>\n",
              "      <td>Dramas, International Movies, Music &amp; Musicals</td>\n",
              "      <td>A scrappy but poor boy worms his way into a ty...</td>\n",
              "    </tr>\n",
              "  </tbody>\n",
              "</table>\n",
              "<p>8807 rows × 12 columns</p>\n",
              "</div>"
            ],
            "text/plain": [
              "     show_id     type                  title         director  \\\n",
              "0         s1    Movie   Dick Johnson Is Dead  Kirsten Johnson   \n",
              "1         s2  TV Show          Blood & Water              NaN   \n",
              "2         s3  TV Show              Ganglands  Julien Leclercq   \n",
              "3         s4  TV Show  Jailbirds New Orleans              NaN   \n",
              "4         s5  TV Show           Kota Factory              NaN   \n",
              "...      ...      ...                    ...              ...   \n",
              "8802   s8803    Movie                 Zodiac    David Fincher   \n",
              "8803   s8804  TV Show            Zombie Dumb              NaN   \n",
              "8804   s8805    Movie             Zombieland  Ruben Fleischer   \n",
              "8805   s8806    Movie                   Zoom     Peter Hewitt   \n",
              "8806   s8807    Movie                 Zubaan      Mozez Singh   \n",
              "\n",
              "                                                   cast        country  \\\n",
              "0                                                   NaN  United States   \n",
              "1     Ama Qamata, Khosi Ngema, Gail Mabalane, Thaban...   South Africa   \n",
              "2     Sami Bouajila, Tracy Gotoas, Samuel Jouy, Nabi...            NaN   \n",
              "3                                                   NaN            NaN   \n",
              "4     Mayur More, Jitendra Kumar, Ranjan Raj, Alam K...          India   \n",
              "...                                                 ...            ...   \n",
              "8802  Mark Ruffalo, Jake Gyllenhaal, Robert Downey J...  United States   \n",
              "8803                                                NaN            NaN   \n",
              "8804  Jesse Eisenberg, Woody Harrelson, Emma Stone, ...  United States   \n",
              "8805  Tim Allen, Courteney Cox, Chevy Chase, Kate Ma...  United States   \n",
              "8806  Vicky Kaushal, Sarah-Jane Dias, Raaghav Chanan...          India   \n",
              "\n",
              "              date_added  release_year rating   duration  \\\n",
              "0     September 25, 2021          2020  PG-13     90 min   \n",
              "1     September 24, 2021          2021  TV-MA  2 Seasons   \n",
              "2     September 24, 2021          2021  TV-MA   1 Season   \n",
              "3     September 24, 2021          2021  TV-MA   1 Season   \n",
              "4     September 24, 2021          2021  TV-MA  2 Seasons   \n",
              "...                  ...           ...    ...        ...   \n",
              "8802   November 20, 2019          2007      R    158 min   \n",
              "8803        July 1, 2019          2018  TV-Y7  2 Seasons   \n",
              "8804    November 1, 2019          2009      R     88 min   \n",
              "8805    January 11, 2020          2006     PG     88 min   \n",
              "8806       March 2, 2019          2015  TV-14    111 min   \n",
              "\n",
              "                                              listed_in  \\\n",
              "0                                         Documentaries   \n",
              "1       International TV Shows, TV Dramas, TV Mysteries   \n",
              "2     Crime TV Shows, International TV Shows, TV Act...   \n",
              "3                                Docuseries, Reality TV   \n",
              "4     International TV Shows, Romantic TV Shows, TV ...   \n",
              "...                                                 ...   \n",
              "8802                     Cult Movies, Dramas, Thrillers   \n",
              "8803             Kids' TV, Korean TV Shows, TV Comedies   \n",
              "8804                            Comedies, Horror Movies   \n",
              "8805                 Children & Family Movies, Comedies   \n",
              "8806     Dramas, International Movies, Music & Musicals   \n",
              "\n",
              "                                            description  \n",
              "0     As her father nears the end of his life, filmm...  \n",
              "1     After crossing paths at a party, a Cape Town t...  \n",
              "2     To protect his family from a powerful drug lor...  \n",
              "3     Feuds, flirtations and toilet talk go down amo...  \n",
              "4     In a city of coaching centers known to train I...  \n",
              "...                                                 ...  \n",
              "8802  A political cartoonist, a crime reporter and a...  \n",
              "8803  While living alone in a spooky town, a young g...  \n",
              "8804  Looking to survive in a world taken over by zo...  \n",
              "8805  Dragged from civilian life, a former superhero...  \n",
              "8806  A scrappy but poor boy worms his way into a ty...  \n",
              "\n",
              "[8807 rows x 12 columns]"
            ]
          },
          "execution_count": 2,
          "metadata": {},
          "output_type": "execute_result"
        }
      ],
      "source": [
        "df = pd.read_csv('/kaggle/input/netflix-shows/netflix_titles.csv')\n",
        "df"
      ]
    },
    {
      "cell_type": "code",
      "execution_count": null,
      "id": "07db3e1b",
      "metadata": {
        "execution": {
          "iopub.execute_input": "2023-04-23T22:00:41.275570Z",
          "iopub.status.busy": "2023-04-23T22:00:41.275163Z",
          "iopub.status.idle": "2023-04-23T22:00:41.292107Z",
          "shell.execute_reply": "2023-04-23T22:00:41.290493Z"
        },
        "id": "07db3e1b",
        "outputId": "d6437857-4a72-4e7d-ed7e-6e90355b1398",
        "papermill": {
          "duration": 0.039612,
          "end_time": "2023-04-23T22:00:41.295115",
          "exception": false,
          "start_time": "2023-04-23T22:00:41.255503",
          "status": "completed"
        },
        "tags": []
      },
      "outputs": [
        {
          "data": {
            "text/plain": [
              "show_id            0\n",
              "type               0\n",
              "title              0\n",
              "director        2634\n",
              "cast             825\n",
              "country          831\n",
              "date_added        10\n",
              "release_year       0\n",
              "rating             4\n",
              "duration           3\n",
              "listed_in          0\n",
              "description        0\n",
              "dtype: int64"
            ]
          },
          "execution_count": 3,
          "metadata": {},
          "output_type": "execute_result"
        }
      ],
      "source": [
        "df.isna().sum()"
      ]
    },
    {
      "cell_type": "code",
      "execution_count": null,
      "id": "354810ec",
      "metadata": {
        "execution": {
          "iopub.execute_input": "2023-04-23T22:00:41.329883Z",
          "iopub.status.busy": "2023-04-23T22:00:41.329110Z",
          "iopub.status.idle": "2023-04-23T22:00:41.336149Z",
          "shell.execute_reply": "2023-04-23T22:00:41.335134Z"
        },
        "id": "354810ec",
        "outputId": "200b688d-d5a8-4ca6-a1cb-464090a2c921",
        "papermill": {
          "duration": 0.027494,
          "end_time": "2023-04-23T22:00:41.338824",
          "exception": false,
          "start_time": "2023-04-23T22:00:41.311330",
          "status": "completed"
        },
        "tags": []
      },
      "outputs": [
        {
          "data": {
            "text/plain": [
              "(8807, 12)"
            ]
          },
          "execution_count": 4,
          "metadata": {},
          "output_type": "execute_result"
        }
      ],
      "source": [
        "df.shape"
      ]
    },
    {
      "cell_type": "code",
      "execution_count": null,
      "id": "8b255dcb",
      "metadata": {
        "execution": {
          "iopub.execute_input": "2023-04-23T22:00:41.373881Z",
          "iopub.status.busy": "2023-04-23T22:00:41.373344Z",
          "iopub.status.idle": "2023-04-23T22:00:41.403318Z",
          "shell.execute_reply": "2023-04-23T22:00:41.402303Z"
        },
        "id": "8b255dcb",
        "outputId": "75ba8889-7180-4fd1-914e-48ba4acc64a4",
        "papermill": {
          "duration": 0.050617,
          "end_time": "2023-04-23T22:00:41.406177",
          "exception": false,
          "start_time": "2023-04-23T22:00:41.355560",
          "status": "completed"
        },
        "tags": []
      },
      "outputs": [
        {
          "name": "stdout",
          "output_type": "stream",
          "text": [
            "<class 'pandas.core.frame.DataFrame'>\n",
            "RangeIndex: 8807 entries, 0 to 8806\n",
            "Data columns (total 12 columns):\n",
            " #   Column        Non-Null Count  Dtype \n",
            "---  ------        --------------  ----- \n",
            " 0   show_id       8807 non-null   object\n",
            " 1   type          8807 non-null   object\n",
            " 2   title         8807 non-null   object\n",
            " 3   director      6173 non-null   object\n",
            " 4   cast          7982 non-null   object\n",
            " 5   country       7976 non-null   object\n",
            " 6   date_added    8797 non-null   object\n",
            " 7   release_year  8807 non-null   int64 \n",
            " 8   rating        8803 non-null   object\n",
            " 9   duration      8804 non-null   object\n",
            " 10  listed_in     8807 non-null   object\n",
            " 11  description   8807 non-null   object\n",
            "dtypes: int64(1), object(11)\n",
            "memory usage: 825.8+ KB\n"
          ]
        }
      ],
      "source": [
        "df.info()"
      ]
    },
    {
      "cell_type": "markdown",
      "id": "8945ad47",
      "metadata": {
        "id": "8945ad47",
        "papermill": {
          "duration": 0.018084,
          "end_time": "2023-04-23T22:00:41.442473",
          "exception": false,
          "start_time": "2023-04-23T22:00:41.424389",
          "status": "completed"
        },
        "tags": []
      },
      "source": [
        "## Cleaning the Data For Analysis\n",
        "1. Missing values\n",
        "2. Duration col\n",
        "3. Multiple values in in single row\n",
        "4. date_added not in datetime format"
      ]
    },
    {
      "cell_type": "code",
      "execution_count": null,
      "id": "a4b58eed",
      "metadata": {
        "execution": {
          "iopub.execute_input": "2023-04-23T22:00:41.479222Z",
          "iopub.status.busy": "2023-04-23T22:00:41.478823Z",
          "iopub.status.idle": "2023-04-23T22:00:41.513424Z",
          "shell.execute_reply": "2023-04-23T22:00:41.511888Z"
        },
        "id": "a4b58eed",
        "papermill": {
          "duration": 0.056352,
          "end_time": "2023-04-23T22:00:41.516590",
          "exception": false,
          "start_time": "2023-04-23T22:00:41.460238",
          "status": "completed"
        },
        "tags": []
      },
      "outputs": [],
      "source": [
        "df = df.drop_duplicates(keep = 'first').reset_index(drop = True)"
      ]
    },
    {
      "cell_type": "code",
      "execution_count": null,
      "id": "55aa9e2f",
      "metadata": {
        "execution": {
          "iopub.execute_input": "2023-04-23T22:00:41.554325Z",
          "iopub.status.busy": "2023-04-23T22:00:41.553915Z",
          "iopub.status.idle": "2023-04-23T22:00:41.597719Z",
          "shell.execute_reply": "2023-04-23T22:00:41.596205Z"
        },
        "id": "55aa9e2f",
        "outputId": "d13932cc-03c3-4868-ec00-05d1728e5760",
        "papermill": {
          "duration": 0.066495,
          "end_time": "2023-04-23T22:00:41.600436",
          "exception": false,
          "start_time": "2023-04-23T22:00:41.533941",
          "status": "completed"
        },
        "tags": []
      },
      "outputs": [
        {
          "data": {
            "text/html": [
              "<div>\n",
              "<style scoped>\n",
              "    .dataframe tbody tr th:only-of-type {\n",
              "        vertical-align: middle;\n",
              "    }\n",
              "\n",
              "    .dataframe tbody tr th {\n",
              "        vertical-align: top;\n",
              "    }\n",
              "\n",
              "    .dataframe thead th {\n",
              "        text-align: right;\n",
              "    }\n",
              "</style>\n",
              "<table border=\"1\" class=\"dataframe\">\n",
              "  <thead>\n",
              "    <tr style=\"text-align: right;\">\n",
              "      <th></th>\n",
              "      <th>show_id</th>\n",
              "      <th>type</th>\n",
              "      <th>title</th>\n",
              "      <th>director</th>\n",
              "      <th>cast</th>\n",
              "      <th>country</th>\n",
              "      <th>date_added</th>\n",
              "      <th>release_year</th>\n",
              "      <th>rating</th>\n",
              "      <th>duration</th>\n",
              "      <th>listed_in</th>\n",
              "      <th>description</th>\n",
              "    </tr>\n",
              "  </thead>\n",
              "  <tbody>\n",
              "  </tbody>\n",
              "</table>\n",
              "</div>"
            ],
            "text/plain": [
              "Empty DataFrame\n",
              "Columns: [show_id, type, title, director, cast, country, date_added, release_year, rating, duration, listed_in, description]\n",
              "Index: []"
            ]
          },
          "execution_count": 7,
          "metadata": {},
          "output_type": "execute_result"
        }
      ],
      "source": [
        "df.loc[df['rating'].str.split(' ').str.get(1) == 'min', 'duration'] = df[df['rating'].str.split(' ').str.get(1) == 'min']['rating']\n",
        "df[df['duration'].isna()]"
      ]
    },
    {
      "cell_type": "code",
      "execution_count": null,
      "id": "27047570",
      "metadata": {
        "execution": {
          "iopub.execute_input": "2023-04-23T22:00:41.636459Z",
          "iopub.status.busy": "2023-04-23T22:00:41.635689Z",
          "iopub.status.idle": "2023-04-23T22:00:41.656017Z",
          "shell.execute_reply": "2023-04-23T22:00:41.654390Z"
        },
        "id": "27047570",
        "papermill": {
          "duration": 0.041226,
          "end_time": "2023-04-23T22:00:41.658906",
          "exception": false,
          "start_time": "2023-04-23T22:00:41.617680",
          "status": "completed"
        },
        "tags": []
      },
      "outputs": [],
      "source": [
        "df.loc[df['rating'].str.split(' ').str.get(1) == 'min', 'rating'] = None"
      ]
    },
    {
      "cell_type": "code",
      "execution_count": null,
      "id": "ba1d72b6",
      "metadata": {
        "execution": {
          "iopub.execute_input": "2023-04-23T22:00:41.694521Z",
          "iopub.status.busy": "2023-04-23T22:00:41.693705Z",
          "iopub.status.idle": "2023-04-23T22:00:41.711338Z",
          "shell.execute_reply": "2023-04-23T22:00:41.709716Z"
        },
        "id": "ba1d72b6",
        "outputId": "b439032f-cbf8-415c-896f-65acccc02422",
        "papermill": {
          "duration": 0.038538,
          "end_time": "2023-04-23T22:00:41.714216",
          "exception": false,
          "start_time": "2023-04-23T22:00:41.675678",
          "status": "completed"
        },
        "tags": []
      },
      "outputs": [
        {
          "data": {
            "text/plain": [
              "show_id            0\n",
              "type               0\n",
              "title              0\n",
              "director        2634\n",
              "cast             825\n",
              "country          831\n",
              "date_added        10\n",
              "release_year       0\n",
              "rating             7\n",
              "duration           0\n",
              "listed_in          0\n",
              "description        0\n",
              "dtype: int64"
            ]
          },
          "execution_count": 9,
          "metadata": {},
          "output_type": "execute_result"
        }
      ],
      "source": [
        "df.isna().sum()"
      ]
    },
    {
      "cell_type": "code",
      "execution_count": null,
      "id": "46071511",
      "metadata": {
        "execution": {
          "iopub.execute_input": "2023-04-23T22:00:41.752526Z",
          "iopub.status.busy": "2023-04-23T22:00:41.751729Z",
          "iopub.status.idle": "2023-04-23T22:00:41.969404Z",
          "shell.execute_reply": "2023-04-23T22:00:41.968187Z"
        },
        "id": "46071511",
        "papermill": {
          "duration": 0.239537,
          "end_time": "2023-04-23T22:00:41.972608",
          "exception": false,
          "start_time": "2023-04-23T22:00:41.733071",
          "status": "completed"
        },
        "tags": []
      },
      "outputs": [],
      "source": [
        "df['date_added'] = df['date_added'].astype('datetime64')\n",
        "mean_val = df['date_added'].mean()\n",
        "df['date_added'].fillna(value = mean_val, inplace = True)"
      ]
    },
    {
      "cell_type": "code",
      "execution_count": null,
      "id": "773e1ed1",
      "metadata": {
        "execution": {
          "iopub.execute_input": "2023-04-23T22:00:42.008470Z",
          "iopub.status.busy": "2023-04-23T22:00:42.007974Z",
          "iopub.status.idle": "2023-04-23T22:00:42.016251Z",
          "shell.execute_reply": "2023-04-23T22:00:42.014880Z"
        },
        "id": "773e1ed1",
        "papermill": {
          "duration": 0.029397,
          "end_time": "2023-04-23T22:00:42.019052",
          "exception": false,
          "start_time": "2023-04-23T22:00:41.989655",
          "status": "completed"
        },
        "tags": []
      },
      "outputs": [],
      "source": [
        "df['rating'].fillna(df['rating'].mode()[0], inplace = True)"
      ]
    },
    {
      "cell_type": "code",
      "execution_count": null,
      "id": "05728c94",
      "metadata": {
        "execution": {
          "iopub.execute_input": "2023-04-23T22:00:42.056323Z",
          "iopub.status.busy": "2023-04-23T22:00:42.055473Z",
          "iopub.status.idle": "2023-04-23T22:00:42.079447Z",
          "shell.execute_reply": "2023-04-23T22:00:42.078055Z"
        },
        "id": "05728c94",
        "papermill": {
          "duration": 0.046496,
          "end_time": "2023-04-23T22:00:42.082720",
          "exception": false,
          "start_time": "2023-04-23T22:00:42.036224",
          "status": "completed"
        },
        "tags": []
      },
      "outputs": [],
      "source": [
        "df['duration'] = df['duration'].str.split(' ').str.get(0)\n",
        "df['duration'] = df['duration'].astype(float)\n"
      ]
    },
    {
      "cell_type": "code",
      "execution_count": null,
      "id": "e92b90f1",
      "metadata": {
        "execution": {
          "iopub.execute_input": "2023-04-23T22:00:42.121668Z",
          "iopub.status.busy": "2023-04-23T22:00:42.121242Z",
          "iopub.status.idle": "2023-04-23T22:00:42.136668Z",
          "shell.execute_reply": "2023-04-23T22:00:42.135358Z"
        },
        "id": "e92b90f1",
        "outputId": "e7c5f5d4-28f7-4007-eb58-a1e56a6dbe11",
        "papermill": {
          "duration": 0.03746,
          "end_time": "2023-04-23T22:00:42.139575",
          "exception": false,
          "start_time": "2023-04-23T22:00:42.102115",
          "status": "completed"
        },
        "tags": []
      },
      "outputs": [
        {
          "data": {
            "text/plain": [
              "show_id            0\n",
              "type               0\n",
              "title              0\n",
              "director        2634\n",
              "cast             825\n",
              "country          831\n",
              "date_added         0\n",
              "release_year       0\n",
              "rating             0\n",
              "duration           0\n",
              "listed_in          0\n",
              "description        0\n",
              "dtype: int64"
            ]
          },
          "execution_count": 13,
          "metadata": {},
          "output_type": "execute_result"
        }
      ],
      "source": [
        "df.isna().sum()"
      ]
    },
    {
      "cell_type": "code",
      "execution_count": null,
      "id": "1425ce40",
      "metadata": {
        "execution": {
          "iopub.execute_input": "2023-04-23T22:00:42.176762Z",
          "iopub.status.busy": "2023-04-23T22:00:42.176279Z",
          "iopub.status.idle": "2023-04-23T22:00:42.316438Z",
          "shell.execute_reply": "2023-04-23T22:00:42.315108Z"
        },
        "id": "1425ce40",
        "papermill": {
          "duration": 0.161869,
          "end_time": "2023-04-23T22:00:42.319506",
          "exception": false,
          "start_time": "2023-04-23T22:00:42.157637",
          "status": "completed"
        },
        "tags": []
      },
      "outputs": [],
      "source": [
        "df_json = df.to_dict(orient = \"records\")"
      ]
    },
    {
      "cell_type": "code",
      "execution_count": null,
      "id": "3e93dcab",
      "metadata": {
        "execution": {
          "iopub.execute_input": "2023-04-23T22:00:42.356977Z",
          "iopub.status.busy": "2023-04-23T22:00:42.356416Z",
          "iopub.status.idle": "2023-04-23T22:00:42.396401Z",
          "shell.execute_reply": "2023-04-23T22:00:42.395126Z"
        },
        "id": "3e93dcab",
        "outputId": "32ca9b4e-3625-45fd-d5ec-c74167bce6ca",
        "papermill": {
          "duration": 0.061981,
          "end_time": "2023-04-23T22:00:42.399239",
          "exception": false,
          "start_time": "2023-04-23T22:00:42.337258",
          "status": "completed"
        },
        "tags": []
      },
      "outputs": [
        {
          "data": {
            "text/html": [
              "<div>\n",
              "<style scoped>\n",
              "    .dataframe tbody tr th:only-of-type {\n",
              "        vertical-align: middle;\n",
              "    }\n",
              "\n",
              "    .dataframe tbody tr th {\n",
              "        vertical-align: top;\n",
              "    }\n",
              "\n",
              "    .dataframe thead th {\n",
              "        text-align: right;\n",
              "    }\n",
              "</style>\n",
              "<table border=\"1\" class=\"dataframe\">\n",
              "  <thead>\n",
              "    <tr style=\"text-align: right;\">\n",
              "      <th></th>\n",
              "      <th>title</th>\n",
              "      <th>director</th>\n",
              "    </tr>\n",
              "  </thead>\n",
              "  <tbody>\n",
              "    <tr>\n",
              "      <th>0</th>\n",
              "      <td>Dick Johnson Is Dead</td>\n",
              "      <td>Kirsten Johnson</td>\n",
              "    </tr>\n",
              "    <tr>\n",
              "      <th>1</th>\n",
              "      <td>Blood &amp; Water</td>\n",
              "      <td>no director</td>\n",
              "    </tr>\n",
              "    <tr>\n",
              "      <th>2</th>\n",
              "      <td>Ganglands</td>\n",
              "      <td>Julien Leclercq</td>\n",
              "    </tr>\n",
              "    <tr>\n",
              "      <th>3</th>\n",
              "      <td>Jailbirds New Orleans</td>\n",
              "      <td>no director</td>\n",
              "    </tr>\n",
              "    <tr>\n",
              "      <th>4</th>\n",
              "      <td>Kota Factory</td>\n",
              "      <td>no director</td>\n",
              "    </tr>\n",
              "    <tr>\n",
              "      <th>...</th>\n",
              "      <td>...</td>\n",
              "      <td>...</td>\n",
              "    </tr>\n",
              "    <tr>\n",
              "      <th>9607</th>\n",
              "      <td>Zodiac</td>\n",
              "      <td>David Fincher</td>\n",
              "    </tr>\n",
              "    <tr>\n",
              "      <th>9608</th>\n",
              "      <td>Zombie Dumb</td>\n",
              "      <td>no director</td>\n",
              "    </tr>\n",
              "    <tr>\n",
              "      <th>9609</th>\n",
              "      <td>Zombieland</td>\n",
              "      <td>Ruben Fleischer</td>\n",
              "    </tr>\n",
              "    <tr>\n",
              "      <th>9610</th>\n",
              "      <td>Zoom</td>\n",
              "      <td>Peter Hewitt</td>\n",
              "    </tr>\n",
              "    <tr>\n",
              "      <th>9611</th>\n",
              "      <td>Zubaan</td>\n",
              "      <td>Mozez Singh</td>\n",
              "    </tr>\n",
              "  </tbody>\n",
              "</table>\n",
              "<p>9612 rows × 2 columns</p>\n",
              "</div>"
            ],
            "text/plain": [
              "                      title         director\n",
              "0      Dick Johnson Is Dead  Kirsten Johnson\n",
              "1             Blood & Water      no director\n",
              "2                 Ganglands  Julien Leclercq\n",
              "3     Jailbirds New Orleans      no director\n",
              "4              Kota Factory      no director\n",
              "...                     ...              ...\n",
              "9607                 Zodiac    David Fincher\n",
              "9608            Zombie Dumb      no director\n",
              "9609             Zombieland  Ruben Fleischer\n",
              "9610                   Zoom     Peter Hewitt\n",
              "9611                 Zubaan      Mozez Singh\n",
              "\n",
              "[9612 rows x 2 columns]"
            ]
          },
          "execution_count": 15,
          "metadata": {},
          "output_type": "execute_result"
        }
      ],
      "source": [
        "df_director = []\n",
        "for x in df_json:\n",
        "  title = x['title']\n",
        "  directors = x['director']\n",
        "\n",
        "  if str(directors) == 'nan':\n",
        "    directors = 'no director'\n",
        "\n",
        "  for c in directors.split(','):\n",
        "    c = c.strip()\n",
        "    obj = {}\n",
        "    obj['title'] = title\n",
        "    obj['director'] = c\n",
        "    df_director.append(obj)\n",
        "\n",
        "df_director = pd.DataFrame(df_director)\n",
        "df_director"
      ]
    },
    {
      "cell_type": "code",
      "execution_count": null,
      "id": "f23f9d41",
      "metadata": {
        "execution": {
          "iopub.execute_input": "2023-04-23T22:00:42.436949Z",
          "iopub.status.busy": "2023-04-23T22:00:42.436494Z",
          "iopub.status.idle": "2023-04-23T22:00:42.565095Z",
          "shell.execute_reply": "2023-04-23T22:00:42.563846Z"
        },
        "id": "f23f9d41",
        "papermill": {
          "duration": 0.151024,
          "end_time": "2023-04-23T22:00:42.567929",
          "exception": false,
          "start_time": "2023-04-23T22:00:42.416905",
          "status": "completed"
        },
        "tags": [],
        "outputId": "aa671a6f-8458-4a90-92d5-e412f5deeedf"
      },
      "outputs": [
        {
          "data": {
            "text/html": [
              "<div>\n",
              "<style scoped>\n",
              "    .dataframe tbody tr th:only-of-type {\n",
              "        vertical-align: middle;\n",
              "    }\n",
              "\n",
              "    .dataframe tbody tr th {\n",
              "        vertical-align: top;\n",
              "    }\n",
              "\n",
              "    .dataframe thead th {\n",
              "        text-align: right;\n",
              "    }\n",
              "</style>\n",
              "<table border=\"1\" class=\"dataframe\">\n",
              "  <thead>\n",
              "    <tr style=\"text-align: right;\">\n",
              "      <th></th>\n",
              "      <th>title</th>\n",
              "      <th>cast</th>\n",
              "    </tr>\n",
              "  </thead>\n",
              "  <tbody>\n",
              "    <tr>\n",
              "      <th>0</th>\n",
              "      <td>Dick Johnson Is Dead</td>\n",
              "      <td>no cast</td>\n",
              "    </tr>\n",
              "    <tr>\n",
              "      <th>1</th>\n",
              "      <td>Blood &amp; Water</td>\n",
              "      <td>Ama Qamata</td>\n",
              "    </tr>\n",
              "    <tr>\n",
              "      <th>2</th>\n",
              "      <td>Blood &amp; Water</td>\n",
              "      <td>Khosi Ngema</td>\n",
              "    </tr>\n",
              "    <tr>\n",
              "      <th>3</th>\n",
              "      <td>Blood &amp; Water</td>\n",
              "      <td>Gail Mabalane</td>\n",
              "    </tr>\n",
              "    <tr>\n",
              "      <th>4</th>\n",
              "      <td>Blood &amp; Water</td>\n",
              "      <td>Thabang Molaba</td>\n",
              "    </tr>\n",
              "    <tr>\n",
              "      <th>...</th>\n",
              "      <td>...</td>\n",
              "      <td>...</td>\n",
              "    </tr>\n",
              "    <tr>\n",
              "      <th>64946</th>\n",
              "      <td>Zubaan</td>\n",
              "      <td>Manish Chaudhary</td>\n",
              "    </tr>\n",
              "    <tr>\n",
              "      <th>64947</th>\n",
              "      <td>Zubaan</td>\n",
              "      <td>Meghna Malik</td>\n",
              "    </tr>\n",
              "    <tr>\n",
              "      <th>64948</th>\n",
              "      <td>Zubaan</td>\n",
              "      <td>Malkeet Rauni</td>\n",
              "    </tr>\n",
              "    <tr>\n",
              "      <th>64949</th>\n",
              "      <td>Zubaan</td>\n",
              "      <td>Anita Shabdish</td>\n",
              "    </tr>\n",
              "    <tr>\n",
              "      <th>64950</th>\n",
              "      <td>Zubaan</td>\n",
              "      <td>Chittaranjan Tripathy</td>\n",
              "    </tr>\n",
              "  </tbody>\n",
              "</table>\n",
              "<p>64951 rows × 2 columns</p>\n",
              "</div>"
            ],
            "text/plain": [
              "                      title                   cast\n",
              "0      Dick Johnson Is Dead                no cast\n",
              "1             Blood & Water             Ama Qamata\n",
              "2             Blood & Water            Khosi Ngema\n",
              "3             Blood & Water          Gail Mabalane\n",
              "4             Blood & Water         Thabang Molaba\n",
              "...                     ...                    ...\n",
              "64946                Zubaan       Manish Chaudhary\n",
              "64947                Zubaan           Meghna Malik\n",
              "64948                Zubaan          Malkeet Rauni\n",
              "64949                Zubaan         Anita Shabdish\n",
              "64950                Zubaan  Chittaranjan Tripathy\n",
              "\n",
              "[64951 rows x 2 columns]"
            ]
          },
          "execution_count": 16,
          "metadata": {},
          "output_type": "execute_result"
        }
      ],
      "source": [
        "df_cast = []\n",
        "for x in df_json:\n",
        "  title = x['title']\n",
        "  casts = x['cast']\n",
        "\n",
        "  if str(casts) == 'nan':\n",
        "    casts = 'no cast'\n",
        "\n",
        "  for c in casts.split(','):\n",
        "    c = c.strip()\n",
        "    obj = {}\n",
        "    obj['title'] = title\n",
        "    obj['cast'] = c\n",
        "    df_cast.append(obj)\n",
        "\n",
        "df_cast = pd.DataFrame(df_cast)\n",
        "df_cast"
      ]
    },
    {
      "cell_type": "code",
      "execution_count": null,
      "id": "11f8a4c5",
      "metadata": {
        "execution": {
          "iopub.execute_input": "2023-04-23T22:00:42.605802Z",
          "iopub.status.busy": "2023-04-23T22:00:42.605338Z",
          "iopub.status.idle": "2023-04-23T22:00:42.645164Z",
          "shell.execute_reply": "2023-04-23T22:00:42.643836Z"
        },
        "id": "11f8a4c5",
        "outputId": "8329328a-7a78-44ac-a6d4-f3fa34c8bfa5",
        "papermill": {
          "duration": 0.061689,
          "end_time": "2023-04-23T22:00:42.647584",
          "exception": false,
          "start_time": "2023-04-23T22:00:42.585895",
          "status": "completed"
        },
        "tags": []
      },
      "outputs": [
        {
          "data": {
            "text/html": [
              "<div>\n",
              "<style scoped>\n",
              "    .dataframe tbody tr th:only-of-type {\n",
              "        vertical-align: middle;\n",
              "    }\n",
              "\n",
              "    .dataframe tbody tr th {\n",
              "        vertical-align: top;\n",
              "    }\n",
              "\n",
              "    .dataframe thead th {\n",
              "        text-align: right;\n",
              "    }\n",
              "</style>\n",
              "<table border=\"1\" class=\"dataframe\">\n",
              "  <thead>\n",
              "    <tr style=\"text-align: right;\">\n",
              "      <th></th>\n",
              "      <th>title</th>\n",
              "      <th>country</th>\n",
              "    </tr>\n",
              "  </thead>\n",
              "  <tbody>\n",
              "    <tr>\n",
              "      <th>0</th>\n",
              "      <td>Dick Johnson Is Dead</td>\n",
              "      <td>United States</td>\n",
              "    </tr>\n",
              "    <tr>\n",
              "      <th>1</th>\n",
              "      <td>Blood &amp; Water</td>\n",
              "      <td>South Africa</td>\n",
              "    </tr>\n",
              "    <tr>\n",
              "      <th>2</th>\n",
              "      <td>Ganglands</td>\n",
              "      <td>no country</td>\n",
              "    </tr>\n",
              "    <tr>\n",
              "      <th>3</th>\n",
              "      <td>Jailbirds New Orleans</td>\n",
              "      <td>no country</td>\n",
              "    </tr>\n",
              "    <tr>\n",
              "      <th>4</th>\n",
              "      <td>Kota Factory</td>\n",
              "      <td>India</td>\n",
              "    </tr>\n",
              "    <tr>\n",
              "      <th>...</th>\n",
              "      <td>...</td>\n",
              "      <td>...</td>\n",
              "    </tr>\n",
              "    <tr>\n",
              "      <th>10845</th>\n",
              "      <td>Zodiac</td>\n",
              "      <td>United States</td>\n",
              "    </tr>\n",
              "    <tr>\n",
              "      <th>10846</th>\n",
              "      <td>Zombie Dumb</td>\n",
              "      <td>no country</td>\n",
              "    </tr>\n",
              "    <tr>\n",
              "      <th>10847</th>\n",
              "      <td>Zombieland</td>\n",
              "      <td>United States</td>\n",
              "    </tr>\n",
              "    <tr>\n",
              "      <th>10848</th>\n",
              "      <td>Zoom</td>\n",
              "      <td>United States</td>\n",
              "    </tr>\n",
              "    <tr>\n",
              "      <th>10849</th>\n",
              "      <td>Zubaan</td>\n",
              "      <td>India</td>\n",
              "    </tr>\n",
              "  </tbody>\n",
              "</table>\n",
              "<p>10850 rows × 2 columns</p>\n",
              "</div>"
            ],
            "text/plain": [
              "                       title        country\n",
              "0       Dick Johnson Is Dead  United States\n",
              "1              Blood & Water   South Africa\n",
              "2                  Ganglands     no country\n",
              "3      Jailbirds New Orleans     no country\n",
              "4               Kota Factory          India\n",
              "...                      ...            ...\n",
              "10845                 Zodiac  United States\n",
              "10846            Zombie Dumb     no country\n",
              "10847             Zombieland  United States\n",
              "10848                   Zoom  United States\n",
              "10849                 Zubaan          India\n",
              "\n",
              "[10850 rows x 2 columns]"
            ]
          },
          "execution_count": 17,
          "metadata": {},
          "output_type": "execute_result"
        }
      ],
      "source": [
        "df_country = []\n",
        "for x in df_json:\n",
        "  title = x['title']\n",
        "  countrys = x['country']\n",
        "\n",
        "  if str(countrys) == 'nan':\n",
        "    countrys = 'no country'\n",
        "\n",
        "  for c in countrys.split(','):\n",
        "    c = c.strip()\n",
        "    obj = {}\n",
        "    obj['title'] = title\n",
        "    obj['country'] = c\n",
        "    df_country.append(obj)\n",
        "\n",
        "df_country = pd.DataFrame(df_country)\n",
        "df_country"
      ]
    },
    {
      "cell_type": "code",
      "execution_count": null,
      "id": "b5472ddb",
      "metadata": {
        "execution": {
          "iopub.execute_input": "2023-04-23T22:00:42.686436Z",
          "iopub.status.busy": "2023-04-23T22:00:42.685493Z",
          "iopub.status.idle": "2023-04-23T22:00:42.734642Z",
          "shell.execute_reply": "2023-04-23T22:00:42.733275Z"
        },
        "id": "b5472ddb",
        "papermill": {
          "duration": 0.071107,
          "end_time": "2023-04-23T22:00:42.737204",
          "exception": false,
          "start_time": "2023-04-23T22:00:42.666097",
          "status": "completed"
        },
        "tags": [],
        "outputId": "75af1b39-2cd7-4341-8499-c6162807cf95"
      },
      "outputs": [
        {
          "data": {
            "text/html": [
              "<div>\n",
              "<style scoped>\n",
              "    .dataframe tbody tr th:only-of-type {\n",
              "        vertical-align: middle;\n",
              "    }\n",
              "\n",
              "    .dataframe tbody tr th {\n",
              "        vertical-align: top;\n",
              "    }\n",
              "\n",
              "    .dataframe thead th {\n",
              "        text-align: right;\n",
              "    }\n",
              "</style>\n",
              "<table border=\"1\" class=\"dataframe\">\n",
              "  <thead>\n",
              "    <tr style=\"text-align: right;\">\n",
              "      <th></th>\n",
              "      <th>title</th>\n",
              "      <th>listed_in</th>\n",
              "    </tr>\n",
              "  </thead>\n",
              "  <tbody>\n",
              "    <tr>\n",
              "      <th>0</th>\n",
              "      <td>Dick Johnson Is Dead</td>\n",
              "      <td>Documentaries</td>\n",
              "    </tr>\n",
              "    <tr>\n",
              "      <th>1</th>\n",
              "      <td>Blood &amp; Water</td>\n",
              "      <td>International TV Shows</td>\n",
              "    </tr>\n",
              "    <tr>\n",
              "      <th>2</th>\n",
              "      <td>Blood &amp; Water</td>\n",
              "      <td>TV Dramas</td>\n",
              "    </tr>\n",
              "    <tr>\n",
              "      <th>3</th>\n",
              "      <td>Blood &amp; Water</td>\n",
              "      <td>TV Mysteries</td>\n",
              "    </tr>\n",
              "    <tr>\n",
              "      <th>4</th>\n",
              "      <td>Ganglands</td>\n",
              "      <td>Crime TV Shows</td>\n",
              "    </tr>\n",
              "    <tr>\n",
              "      <th>...</th>\n",
              "      <td>...</td>\n",
              "      <td>...</td>\n",
              "    </tr>\n",
              "    <tr>\n",
              "      <th>19318</th>\n",
              "      <td>Zoom</td>\n",
              "      <td>Children &amp; Family Movies</td>\n",
              "    </tr>\n",
              "    <tr>\n",
              "      <th>19319</th>\n",
              "      <td>Zoom</td>\n",
              "      <td>Comedies</td>\n",
              "    </tr>\n",
              "    <tr>\n",
              "      <th>19320</th>\n",
              "      <td>Zubaan</td>\n",
              "      <td>Dramas</td>\n",
              "    </tr>\n",
              "    <tr>\n",
              "      <th>19321</th>\n",
              "      <td>Zubaan</td>\n",
              "      <td>International Movies</td>\n",
              "    </tr>\n",
              "    <tr>\n",
              "      <th>19322</th>\n",
              "      <td>Zubaan</td>\n",
              "      <td>Music &amp; Musicals</td>\n",
              "    </tr>\n",
              "  </tbody>\n",
              "</table>\n",
              "<p>19323 rows × 2 columns</p>\n",
              "</div>"
            ],
            "text/plain": [
              "                      title                 listed_in\n",
              "0      Dick Johnson Is Dead             Documentaries\n",
              "1             Blood & Water    International TV Shows\n",
              "2             Blood & Water                 TV Dramas\n",
              "3             Blood & Water              TV Mysteries\n",
              "4                 Ganglands            Crime TV Shows\n",
              "...                     ...                       ...\n",
              "19318                  Zoom  Children & Family Movies\n",
              "19319                  Zoom                  Comedies\n",
              "19320                Zubaan                    Dramas\n",
              "19321                Zubaan      International Movies\n",
              "19322                Zubaan          Music & Musicals\n",
              "\n",
              "[19323 rows x 2 columns]"
            ]
          },
          "execution_count": 18,
          "metadata": {},
          "output_type": "execute_result"
        }
      ],
      "source": [
        "df_listed = []\n",
        "for x in df_json:\n",
        "  title = x['title']\n",
        "  listed = x['listed_in']\n",
        "\n",
        "  if str(listed) == 'nan':\n",
        "    listed = 'not listed'\n",
        "\n",
        "  for c in listed.split(','):\n",
        "    c = c.strip()\n",
        "    obj = {}\n",
        "    obj['title'] = title\n",
        "    obj['listed_in'] = c\n",
        "    df_listed.append(obj)\n",
        "\n",
        "df_listed = pd.DataFrame(df_listed)\n",
        "df_listed"
      ]
    },
    {
      "cell_type": "code",
      "execution_count": null,
      "id": "e34c7dc5",
      "metadata": {
        "execution": {
          "iopub.execute_input": "2023-04-23T22:00:42.776770Z",
          "iopub.status.busy": "2023-04-23T22:00:42.776034Z",
          "iopub.status.idle": "2023-04-23T22:00:42.895953Z",
          "shell.execute_reply": "2023-04-23T22:00:42.894649Z"
        },
        "id": "e34c7dc5",
        "outputId": "219c868d-83f0-48de-ba1c-7e7addfbe91f",
        "papermill": {
          "duration": 0.142917,
          "end_time": "2023-04-23T22:00:42.898772",
          "exception": false,
          "start_time": "2023-04-23T22:00:42.755855",
          "status": "completed"
        },
        "tags": []
      },
      "outputs": [
        {
          "data": {
            "text/html": [
              "<div>\n",
              "<style scoped>\n",
              "    .dataframe tbody tr th:only-of-type {\n",
              "        vertical-align: middle;\n",
              "    }\n",
              "\n",
              "    .dataframe tbody tr th {\n",
              "        vertical-align: top;\n",
              "    }\n",
              "\n",
              "    .dataframe thead th {\n",
              "        text-align: right;\n",
              "    }\n",
              "</style>\n",
              "<table border=\"1\" class=\"dataframe\">\n",
              "  <thead>\n",
              "    <tr style=\"text-align: right;\">\n",
              "      <th></th>\n",
              "      <th>title</th>\n",
              "      <th>director</th>\n",
              "      <th>cast</th>\n",
              "      <th>country</th>\n",
              "      <th>listed_in</th>\n",
              "    </tr>\n",
              "  </thead>\n",
              "  <tbody>\n",
              "    <tr>\n",
              "      <th>0</th>\n",
              "      <td>Dick Johnson Is Dead</td>\n",
              "      <td>Kirsten Johnson</td>\n",
              "      <td>no cast</td>\n",
              "      <td>United States</td>\n",
              "      <td>Documentaries</td>\n",
              "    </tr>\n",
              "    <tr>\n",
              "      <th>1</th>\n",
              "      <td>Blood &amp; Water</td>\n",
              "      <td>no director</td>\n",
              "      <td>Ama Qamata</td>\n",
              "      <td>South Africa</td>\n",
              "      <td>International TV Shows</td>\n",
              "    </tr>\n",
              "    <tr>\n",
              "      <th>2</th>\n",
              "      <td>Blood &amp; Water</td>\n",
              "      <td>no director</td>\n",
              "      <td>Ama Qamata</td>\n",
              "      <td>South Africa</td>\n",
              "      <td>TV Dramas</td>\n",
              "    </tr>\n",
              "    <tr>\n",
              "      <th>3</th>\n",
              "      <td>Blood &amp; Water</td>\n",
              "      <td>no director</td>\n",
              "      <td>Ama Qamata</td>\n",
              "      <td>South Africa</td>\n",
              "      <td>TV Mysteries</td>\n",
              "    </tr>\n",
              "    <tr>\n",
              "      <th>4</th>\n",
              "      <td>Blood &amp; Water</td>\n",
              "      <td>no director</td>\n",
              "      <td>Khosi Ngema</td>\n",
              "      <td>South Africa</td>\n",
              "      <td>International TV Shows</td>\n",
              "    </tr>\n",
              "    <tr>\n",
              "      <th>...</th>\n",
              "      <td>...</td>\n",
              "      <td>...</td>\n",
              "      <td>...</td>\n",
              "      <td>...</td>\n",
              "      <td>...</td>\n",
              "    </tr>\n",
              "    <tr>\n",
              "      <th>202060</th>\n",
              "      <td>Zubaan</td>\n",
              "      <td>Mozez Singh</td>\n",
              "      <td>Anita Shabdish</td>\n",
              "      <td>India</td>\n",
              "      <td>International Movies</td>\n",
              "    </tr>\n",
              "    <tr>\n",
              "      <th>202061</th>\n",
              "      <td>Zubaan</td>\n",
              "      <td>Mozez Singh</td>\n",
              "      <td>Anita Shabdish</td>\n",
              "      <td>India</td>\n",
              "      <td>Music &amp; Musicals</td>\n",
              "    </tr>\n",
              "    <tr>\n",
              "      <th>202062</th>\n",
              "      <td>Zubaan</td>\n",
              "      <td>Mozez Singh</td>\n",
              "      <td>Chittaranjan Tripathy</td>\n",
              "      <td>India</td>\n",
              "      <td>Dramas</td>\n",
              "    </tr>\n",
              "    <tr>\n",
              "      <th>202063</th>\n",
              "      <td>Zubaan</td>\n",
              "      <td>Mozez Singh</td>\n",
              "      <td>Chittaranjan Tripathy</td>\n",
              "      <td>India</td>\n",
              "      <td>International Movies</td>\n",
              "    </tr>\n",
              "    <tr>\n",
              "      <th>202064</th>\n",
              "      <td>Zubaan</td>\n",
              "      <td>Mozez Singh</td>\n",
              "      <td>Chittaranjan Tripathy</td>\n",
              "      <td>India</td>\n",
              "      <td>Music &amp; Musicals</td>\n",
              "    </tr>\n",
              "  </tbody>\n",
              "</table>\n",
              "<p>202065 rows × 5 columns</p>\n",
              "</div>"
            ],
            "text/plain": [
              "                       title         director                   cast  \\\n",
              "0       Dick Johnson Is Dead  Kirsten Johnson                no cast   \n",
              "1              Blood & Water      no director             Ama Qamata   \n",
              "2              Blood & Water      no director             Ama Qamata   \n",
              "3              Blood & Water      no director             Ama Qamata   \n",
              "4              Blood & Water      no director            Khosi Ngema   \n",
              "...                      ...              ...                    ...   \n",
              "202060                Zubaan      Mozez Singh         Anita Shabdish   \n",
              "202061                Zubaan      Mozez Singh         Anita Shabdish   \n",
              "202062                Zubaan      Mozez Singh  Chittaranjan Tripathy   \n",
              "202063                Zubaan      Mozez Singh  Chittaranjan Tripathy   \n",
              "202064                Zubaan      Mozez Singh  Chittaranjan Tripathy   \n",
              "\n",
              "              country               listed_in  \n",
              "0       United States           Documentaries  \n",
              "1        South Africa  International TV Shows  \n",
              "2        South Africa               TV Dramas  \n",
              "3        South Africa            TV Mysteries  \n",
              "4        South Africa  International TV Shows  \n",
              "...               ...                     ...  \n",
              "202060          India    International Movies  \n",
              "202061          India        Music & Musicals  \n",
              "202062          India                  Dramas  \n",
              "202063          India    International Movies  \n",
              "202064          India        Music & Musicals  \n",
              "\n",
              "[202065 rows x 5 columns]"
            ]
          },
          "execution_count": 19,
          "metadata": {},
          "output_type": "execute_result"
        }
      ],
      "source": [
        "df1 = pd.merge(df_director, df_cast, on = 'title')\n",
        "df2 = pd.merge(df1, df_country, on = 'title')\n",
        "df3 = pd.merge(df2, df_listed, on = 'title')\n",
        "df3"
      ]
    },
    {
      "cell_type": "code",
      "execution_count": null,
      "id": "b3f884c1",
      "metadata": {
        "execution": {
          "iopub.execute_input": "2023-04-23T22:00:42.938774Z",
          "iopub.status.busy": "2023-04-23T22:00:42.938340Z",
          "iopub.status.idle": "2023-04-23T22:00:43.136792Z",
          "shell.execute_reply": "2023-04-23T22:00:43.135407Z"
        },
        "id": "b3f884c1",
        "outputId": "ea24c177-5f04-41fd-ffa5-3090da1f6f9f",
        "papermill": {
          "duration": 0.222219,
          "end_time": "2023-04-23T22:00:43.139720",
          "exception": false,
          "start_time": "2023-04-23T22:00:42.917501",
          "status": "completed"
        },
        "tags": []
      },
      "outputs": [
        {
          "data": {
            "text/html": [
              "<div>\n",
              "<style scoped>\n",
              "    .dataframe tbody tr th:only-of-type {\n",
              "        vertical-align: middle;\n",
              "    }\n",
              "\n",
              "    .dataframe tbody tr th {\n",
              "        vertical-align: top;\n",
              "    }\n",
              "\n",
              "    .dataframe thead th {\n",
              "        text-align: right;\n",
              "    }\n",
              "</style>\n",
              "<table border=\"1\" class=\"dataframe\">\n",
              "  <thead>\n",
              "    <tr style=\"text-align: right;\">\n",
              "      <th></th>\n",
              "      <th>show_id</th>\n",
              "      <th>type</th>\n",
              "      <th>title</th>\n",
              "      <th>date_added</th>\n",
              "      <th>release_year</th>\n",
              "      <th>rating</th>\n",
              "      <th>duration</th>\n",
              "      <th>description</th>\n",
              "      <th>director</th>\n",
              "      <th>cast</th>\n",
              "      <th>country</th>\n",
              "      <th>listed_in</th>\n",
              "    </tr>\n",
              "  </thead>\n",
              "  <tbody>\n",
              "    <tr>\n",
              "      <th>0</th>\n",
              "      <td>s1</td>\n",
              "      <td>Movie</td>\n",
              "      <td>Dick Johnson Is Dead</td>\n",
              "      <td>2021-09-25</td>\n",
              "      <td>2020</td>\n",
              "      <td>PG-13</td>\n",
              "      <td>90.0</td>\n",
              "      <td>As her father nears the end of his life, filmm...</td>\n",
              "      <td>Kirsten Johnson</td>\n",
              "      <td>no cast</td>\n",
              "      <td>United States</td>\n",
              "      <td>Documentaries</td>\n",
              "    </tr>\n",
              "    <tr>\n",
              "      <th>1</th>\n",
              "      <td>s2</td>\n",
              "      <td>TV Show</td>\n",
              "      <td>Blood &amp; Water</td>\n",
              "      <td>2021-09-24</td>\n",
              "      <td>2021</td>\n",
              "      <td>TV-MA</td>\n",
              "      <td>2.0</td>\n",
              "      <td>After crossing paths at a party, a Cape Town t...</td>\n",
              "      <td>no director</td>\n",
              "      <td>Ama Qamata</td>\n",
              "      <td>South Africa</td>\n",
              "      <td>International TV Shows</td>\n",
              "    </tr>\n",
              "    <tr>\n",
              "      <th>2</th>\n",
              "      <td>s2</td>\n",
              "      <td>TV Show</td>\n",
              "      <td>Blood &amp; Water</td>\n",
              "      <td>2021-09-24</td>\n",
              "      <td>2021</td>\n",
              "      <td>TV-MA</td>\n",
              "      <td>2.0</td>\n",
              "      <td>After crossing paths at a party, a Cape Town t...</td>\n",
              "      <td>no director</td>\n",
              "      <td>Ama Qamata</td>\n",
              "      <td>South Africa</td>\n",
              "      <td>TV Dramas</td>\n",
              "    </tr>\n",
              "    <tr>\n",
              "      <th>3</th>\n",
              "      <td>s2</td>\n",
              "      <td>TV Show</td>\n",
              "      <td>Blood &amp; Water</td>\n",
              "      <td>2021-09-24</td>\n",
              "      <td>2021</td>\n",
              "      <td>TV-MA</td>\n",
              "      <td>2.0</td>\n",
              "      <td>After crossing paths at a party, a Cape Town t...</td>\n",
              "      <td>no director</td>\n",
              "      <td>Ama Qamata</td>\n",
              "      <td>South Africa</td>\n",
              "      <td>TV Mysteries</td>\n",
              "    </tr>\n",
              "    <tr>\n",
              "      <th>4</th>\n",
              "      <td>s2</td>\n",
              "      <td>TV Show</td>\n",
              "      <td>Blood &amp; Water</td>\n",
              "      <td>2021-09-24</td>\n",
              "      <td>2021</td>\n",
              "      <td>TV-MA</td>\n",
              "      <td>2.0</td>\n",
              "      <td>After crossing paths at a party, a Cape Town t...</td>\n",
              "      <td>no director</td>\n",
              "      <td>Khosi Ngema</td>\n",
              "      <td>South Africa</td>\n",
              "      <td>International TV Shows</td>\n",
              "    </tr>\n",
              "    <tr>\n",
              "      <th>...</th>\n",
              "      <td>...</td>\n",
              "      <td>...</td>\n",
              "      <td>...</td>\n",
              "      <td>...</td>\n",
              "      <td>...</td>\n",
              "      <td>...</td>\n",
              "      <td>...</td>\n",
              "      <td>...</td>\n",
              "      <td>...</td>\n",
              "      <td>...</td>\n",
              "      <td>...</td>\n",
              "      <td>...</td>\n",
              "    </tr>\n",
              "    <tr>\n",
              "      <th>202060</th>\n",
              "      <td>s8807</td>\n",
              "      <td>Movie</td>\n",
              "      <td>Zubaan</td>\n",
              "      <td>2019-03-02</td>\n",
              "      <td>2015</td>\n",
              "      <td>TV-14</td>\n",
              "      <td>111.0</td>\n",
              "      <td>A scrappy but poor boy worms his way into a ty...</td>\n",
              "      <td>Mozez Singh</td>\n",
              "      <td>Anita Shabdish</td>\n",
              "      <td>India</td>\n",
              "      <td>International Movies</td>\n",
              "    </tr>\n",
              "    <tr>\n",
              "      <th>202061</th>\n",
              "      <td>s8807</td>\n",
              "      <td>Movie</td>\n",
              "      <td>Zubaan</td>\n",
              "      <td>2019-03-02</td>\n",
              "      <td>2015</td>\n",
              "      <td>TV-14</td>\n",
              "      <td>111.0</td>\n",
              "      <td>A scrappy but poor boy worms his way into a ty...</td>\n",
              "      <td>Mozez Singh</td>\n",
              "      <td>Anita Shabdish</td>\n",
              "      <td>India</td>\n",
              "      <td>Music &amp; Musicals</td>\n",
              "    </tr>\n",
              "    <tr>\n",
              "      <th>202062</th>\n",
              "      <td>s8807</td>\n",
              "      <td>Movie</td>\n",
              "      <td>Zubaan</td>\n",
              "      <td>2019-03-02</td>\n",
              "      <td>2015</td>\n",
              "      <td>TV-14</td>\n",
              "      <td>111.0</td>\n",
              "      <td>A scrappy but poor boy worms his way into a ty...</td>\n",
              "      <td>Mozez Singh</td>\n",
              "      <td>Chittaranjan Tripathy</td>\n",
              "      <td>India</td>\n",
              "      <td>Dramas</td>\n",
              "    </tr>\n",
              "    <tr>\n",
              "      <th>202063</th>\n",
              "      <td>s8807</td>\n",
              "      <td>Movie</td>\n",
              "      <td>Zubaan</td>\n",
              "      <td>2019-03-02</td>\n",
              "      <td>2015</td>\n",
              "      <td>TV-14</td>\n",
              "      <td>111.0</td>\n",
              "      <td>A scrappy but poor boy worms his way into a ty...</td>\n",
              "      <td>Mozez Singh</td>\n",
              "      <td>Chittaranjan Tripathy</td>\n",
              "      <td>India</td>\n",
              "      <td>International Movies</td>\n",
              "    </tr>\n",
              "    <tr>\n",
              "      <th>202064</th>\n",
              "      <td>s8807</td>\n",
              "      <td>Movie</td>\n",
              "      <td>Zubaan</td>\n",
              "      <td>2019-03-02</td>\n",
              "      <td>2015</td>\n",
              "      <td>TV-14</td>\n",
              "      <td>111.0</td>\n",
              "      <td>A scrappy but poor boy worms his way into a ty...</td>\n",
              "      <td>Mozez Singh</td>\n",
              "      <td>Chittaranjan Tripathy</td>\n",
              "      <td>India</td>\n",
              "      <td>Music &amp; Musicals</td>\n",
              "    </tr>\n",
              "  </tbody>\n",
              "</table>\n",
              "<p>202065 rows × 12 columns</p>\n",
              "</div>"
            ],
            "text/plain": [
              "       show_id     type                 title date_added  release_year rating  \\\n",
              "0           s1    Movie  Dick Johnson Is Dead 2021-09-25          2020  PG-13   \n",
              "1           s2  TV Show         Blood & Water 2021-09-24          2021  TV-MA   \n",
              "2           s2  TV Show         Blood & Water 2021-09-24          2021  TV-MA   \n",
              "3           s2  TV Show         Blood & Water 2021-09-24          2021  TV-MA   \n",
              "4           s2  TV Show         Blood & Water 2021-09-24          2021  TV-MA   \n",
              "...        ...      ...                   ...        ...           ...    ...   \n",
              "202060   s8807    Movie                Zubaan 2019-03-02          2015  TV-14   \n",
              "202061   s8807    Movie                Zubaan 2019-03-02          2015  TV-14   \n",
              "202062   s8807    Movie                Zubaan 2019-03-02          2015  TV-14   \n",
              "202063   s8807    Movie                Zubaan 2019-03-02          2015  TV-14   \n",
              "202064   s8807    Movie                Zubaan 2019-03-02          2015  TV-14   \n",
              "\n",
              "        duration                                        description  \\\n",
              "0           90.0  As her father nears the end of his life, filmm...   \n",
              "1            2.0  After crossing paths at a party, a Cape Town t...   \n",
              "2            2.0  After crossing paths at a party, a Cape Town t...   \n",
              "3            2.0  After crossing paths at a party, a Cape Town t...   \n",
              "4            2.0  After crossing paths at a party, a Cape Town t...   \n",
              "...          ...                                                ...   \n",
              "202060     111.0  A scrappy but poor boy worms his way into a ty...   \n",
              "202061     111.0  A scrappy but poor boy worms his way into a ty...   \n",
              "202062     111.0  A scrappy but poor boy worms his way into a ty...   \n",
              "202063     111.0  A scrappy but poor boy worms his way into a ty...   \n",
              "202064     111.0  A scrappy but poor boy worms his way into a ty...   \n",
              "\n",
              "               director                   cast        country  \\\n",
              "0       Kirsten Johnson                no cast  United States   \n",
              "1           no director             Ama Qamata   South Africa   \n",
              "2           no director             Ama Qamata   South Africa   \n",
              "3           no director             Ama Qamata   South Africa   \n",
              "4           no director            Khosi Ngema   South Africa   \n",
              "...                 ...                    ...            ...   \n",
              "202060      Mozez Singh         Anita Shabdish          India   \n",
              "202061      Mozez Singh         Anita Shabdish          India   \n",
              "202062      Mozez Singh  Chittaranjan Tripathy          India   \n",
              "202063      Mozez Singh  Chittaranjan Tripathy          India   \n",
              "202064      Mozez Singh  Chittaranjan Tripathy          India   \n",
              "\n",
              "                     listed_in  \n",
              "0                Documentaries  \n",
              "1       International TV Shows  \n",
              "2                    TV Dramas  \n",
              "3                 TV Mysteries  \n",
              "4       International TV Shows  \n",
              "...                        ...  \n",
              "202060    International Movies  \n",
              "202061        Music & Musicals  \n",
              "202062                  Dramas  \n",
              "202063    International Movies  \n",
              "202064        Music & Musicals  \n",
              "\n",
              "[202065 rows x 12 columns]"
            ]
          },
          "execution_count": 20,
          "metadata": {},
          "output_type": "execute_result"
        }
      ],
      "source": [
        "updated_df = pd.merge(df[['show_id', 'type', 'title', 'date_added', 'release_year', 'rating', 'duration', 'description']], df3, on = 'title')\n",
        "updated_df"
      ]
    },
    {
      "cell_type": "code",
      "execution_count": null,
      "id": "4baae8a7",
      "metadata": {
        "execution": {
          "iopub.execute_input": "2023-04-23T22:00:43.181230Z",
          "iopub.status.busy": "2023-04-23T22:00:43.180770Z",
          "iopub.status.idle": "2023-04-23T22:00:43.187369Z",
          "shell.execute_reply": "2023-04-23T22:00:43.186374Z"
        },
        "id": "4baae8a7",
        "outputId": "59599ef8-29b2-4884-bc4e-88744e7984ce",
        "papermill": {
          "duration": 0.029739,
          "end_time": "2023-04-23T22:00:43.189610",
          "exception": false,
          "start_time": "2023-04-23T22:00:43.159871",
          "status": "completed"
        },
        "tags": []
      },
      "outputs": [
        {
          "data": {
            "text/plain": [
              "(8807, 202065)"
            ]
          },
          "execution_count": 21,
          "metadata": {},
          "output_type": "execute_result"
        }
      ],
      "source": [
        "len(df), len(updated_df)"
      ]
    },
    {
      "cell_type": "code",
      "execution_count": null,
      "id": "fd8c7f1b",
      "metadata": {
        "execution": {
          "iopub.execute_input": "2023-04-23T22:00:43.230919Z",
          "iopub.status.busy": "2023-04-23T22:00:43.230137Z",
          "iopub.status.idle": "2023-04-23T22:00:43.611027Z",
          "shell.execute_reply": "2023-04-23T22:00:43.609500Z"
        },
        "id": "fd8c7f1b",
        "papermill": {
          "duration": 0.40463,
          "end_time": "2023-04-23T22:00:43.614111",
          "exception": false,
          "start_time": "2023-04-23T22:00:43.209481",
          "status": "completed"
        },
        "tags": []
      },
      "outputs": [],
      "source": [
        "updated_df = updated_df.drop_duplicates(keep = 'first').reset_index(drop = True)"
      ]
    },
    {
      "cell_type": "code",
      "execution_count": null,
      "id": "286b4c59",
      "metadata": {
        "execution": {
          "iopub.execute_input": "2023-04-23T22:00:43.657323Z",
          "iopub.status.busy": "2023-04-23T22:00:43.656431Z",
          "iopub.status.idle": "2023-04-23T22:00:43.755930Z",
          "shell.execute_reply": "2023-04-23T22:00:43.754429Z"
        },
        "id": "286b4c59",
        "outputId": "76b46a81-a8e8-4623-9b3b-f65d460fd221",
        "papermill": {
          "duration": 0.124787,
          "end_time": "2023-04-23T22:00:43.758816",
          "exception": false,
          "start_time": "2023-04-23T22:00:43.634029",
          "status": "completed"
        },
        "tags": []
      },
      "outputs": [
        {
          "data": {
            "text/plain": [
              "show_id         0\n",
              "type            0\n",
              "title           0\n",
              "date_added      0\n",
              "release_year    0\n",
              "rating          0\n",
              "duration        0\n",
              "description     0\n",
              "director        0\n",
              "cast            0\n",
              "country         0\n",
              "listed_in       0\n",
              "dtype: int64"
            ]
          },
          "execution_count": 23,
          "metadata": {},
          "output_type": "execute_result"
        }
      ],
      "source": [
        "updated_df.isna().sum()"
      ]
    },
    {
      "cell_type": "code",
      "execution_count": null,
      "id": "092e1bcb",
      "metadata": {
        "execution": {
          "iopub.execute_input": "2023-04-23T22:00:43.800237Z",
          "iopub.status.busy": "2023-04-23T22:00:43.799833Z",
          "iopub.status.idle": "2023-04-23T22:00:43.905362Z",
          "shell.execute_reply": "2023-04-23T22:00:43.903785Z"
        },
        "id": "092e1bcb",
        "outputId": "2d4420a5-c722-4cbd-c2ce-31d67fb4daf4",
        "papermill": {
          "duration": 0.129921,
          "end_time": "2023-04-23T22:00:43.908688",
          "exception": false,
          "start_time": "2023-04-23T22:00:43.778767",
          "status": "completed"
        },
        "tags": []
      },
      "outputs": [
        {
          "name": "stdout",
          "output_type": "stream",
          "text": [
            "<class 'pandas.core.frame.DataFrame'>\n",
            "RangeIndex: 202010 entries, 0 to 202009\n",
            "Data columns (total 12 columns):\n",
            " #   Column        Non-Null Count   Dtype         \n",
            "---  ------        --------------   -----         \n",
            " 0   show_id       202010 non-null  object        \n",
            " 1   type          202010 non-null  object        \n",
            " 2   title         202010 non-null  object        \n",
            " 3   date_added    202010 non-null  datetime64[ns]\n",
            " 4   release_year  202010 non-null  int64         \n",
            " 5   rating        202010 non-null  object        \n",
            " 6   duration      202010 non-null  float64       \n",
            " 7   description   202010 non-null  object        \n",
            " 8   director      202010 non-null  object        \n",
            " 9   cast          202010 non-null  object        \n",
            " 10  country       202010 non-null  object        \n",
            " 11  listed_in     202010 non-null  object        \n",
            "dtypes: datetime64[ns](1), float64(1), int64(1), object(9)\n",
            "memory usage: 18.5+ MB\n"
          ]
        }
      ],
      "source": [
        "updated_df.info()"
      ]
    },
    {
      "cell_type": "markdown",
      "id": "c92fa4da",
      "metadata": {
        "id": "c92fa4da",
        "papermill": {
          "duration": 0.01925,
          "end_time": "2023-04-23T22:00:43.947490",
          "exception": false,
          "start_time": "2023-04-23T22:00:43.928240",
          "status": "completed"
        },
        "tags": []
      },
      "source": [
        "# 1. Defining Problem Statement and Analysing basic metrics"
      ]
    },
    {
      "cell_type": "markdown",
      "id": "25b82a7c",
      "metadata": {
        "id": "25b82a7c",
        "papermill": {
          "duration": 0.019238,
          "end_time": "2023-04-23T22:00:43.986481",
          "exception": false,
          "start_time": "2023-04-23T22:00:43.967243",
          "status": "completed"
        },
        "tags": []
      },
      "source": [
        "Analyze the data and generate insights that could help Netflix in deciding which type of shows/movies to produce and how they can grow the business in different countries by observing insights like\n",
        "\n",
        "1. Which genre is best\n",
        "2. Which actor with highest number of movies / TV Shows\n",
        "3. Director with highest number of movies / TV Shows\n",
        "4. Understanding what content is available in different countries\n",
        "5. Does Netflix has more focus on TV Shows than movies in recent years."
      ]
    },
    {
      "cell_type": "markdown",
      "id": "532ae103",
      "metadata": {
        "id": "532ae103",
        "papermill": {
          "duration": 0.020566,
          "end_time": "2023-04-23T22:00:44.026521",
          "exception": false,
          "start_time": "2023-04-23T22:00:44.005955",
          "status": "completed"
        },
        "tags": []
      },
      "source": [
        "# 2. Observations on the shape of data, data types of all the attributes, conversion of categorical attributes to 'category' (If required), missing value detection, statistical summary"
      ]
    },
    {
      "cell_type": "code",
      "execution_count": null,
      "id": "3de5f0b6",
      "metadata": {
        "execution": {
          "iopub.execute_input": "2023-04-23T22:00:44.068574Z",
          "iopub.status.busy": "2023-04-23T22:00:44.068156Z",
          "iopub.status.idle": "2023-04-23T22:00:44.075364Z",
          "shell.execute_reply": "2023-04-23T22:00:44.073888Z"
        },
        "id": "3de5f0b6",
        "outputId": "c64d402f-2c16-4be1-a8db-7ea78be26c46",
        "papermill": {
          "duration": 0.0316,
          "end_time": "2023-04-23T22:00:44.078387",
          "exception": false,
          "start_time": "2023-04-23T22:00:44.046787",
          "status": "completed"
        },
        "tags": []
      },
      "outputs": [
        {
          "name": "stdout",
          "output_type": "stream",
          "text": [
            "No of rows before preprocessing, 8807 No of rows After preprocessing 202010\n",
            "No of cols before preprocessing, 12 No of cols After preprocessing 12\n"
          ]
        }
      ],
      "source": [
        "print('No of rows before preprocessing,', df.shape[0], 'No of rows After preprocessing', updated_df.shape[0])\n",
        "print('No of cols before preprocessing,', df.shape[1], 'No of cols After preprocessing', updated_df.shape[1])"
      ]
    },
    {
      "cell_type": "code",
      "execution_count": null,
      "id": "7c5a2861",
      "metadata": {
        "execution": {
          "iopub.execute_input": "2023-04-23T22:00:44.120053Z",
          "iopub.status.busy": "2023-04-23T22:00:44.119626Z",
          "iopub.status.idle": "2023-04-23T22:00:44.222011Z",
          "shell.execute_reply": "2023-04-23T22:00:44.220396Z"
        },
        "id": "7c5a2861",
        "outputId": "b4acf486-f00c-438f-d98b-710cdaa09688",
        "papermill": {
          "duration": 0.126699,
          "end_time": "2023-04-23T22:00:44.224767",
          "exception": false,
          "start_time": "2023-04-23T22:00:44.098068",
          "status": "completed"
        },
        "tags": []
      },
      "outputs": [
        {
          "name": "stdout",
          "output_type": "stream",
          "text": [
            "<class 'pandas.core.frame.DataFrame'>\n",
            "RangeIndex: 202010 entries, 0 to 202009\n",
            "Data columns (total 12 columns):\n",
            " #   Column        Non-Null Count   Dtype         \n",
            "---  ------        --------------   -----         \n",
            " 0   show_id       202010 non-null  object        \n",
            " 1   type          202010 non-null  object        \n",
            " 2   title         202010 non-null  object        \n",
            " 3   date_added    202010 non-null  datetime64[ns]\n",
            " 4   release_year  202010 non-null  int64         \n",
            " 5   rating        202010 non-null  object        \n",
            " 6   duration      202010 non-null  float64       \n",
            " 7   description   202010 non-null  object        \n",
            " 8   director      202010 non-null  object        \n",
            " 9   cast          202010 non-null  object        \n",
            " 10  country       202010 non-null  object        \n",
            " 11  listed_in     202010 non-null  object        \n",
            "dtypes: datetime64[ns](1), float64(1), int64(1), object(9)\n",
            "memory usage: 18.5+ MB\n"
          ]
        }
      ],
      "source": [
        "#columns datatype\n",
        "updated_df.info()"
      ]
    },
    {
      "cell_type": "markdown",
      "id": "40c11de5",
      "metadata": {
        "id": "40c11de5",
        "papermill": {
          "duration": 0.020586,
          "end_time": "2023-04-23T22:00:44.265940",
          "exception": false,
          "start_time": "2023-04-23T22:00:44.245354",
          "status": "completed"
        },
        "tags": []
      },
      "source": [
        "## Following columns have missing values\n",
        "1. Director -> As their is a possibility of having 0 directors, So its been replaced by \"No Director\"\n",
        "2. Cast -> As their is a possibility of having 0 casts like in animated movies, So its been replaced by \"No Cast\"\n",
        "3. Country -> As their is a possibility of having no Country release, So its been replaced by \"No Country\"\n",
        "4. date_added -> It is replaced by Mean\n",
        "5. rating -> As it is a categorical data it is replaced by mode\n"
      ]
    },
    {
      "cell_type": "code",
      "execution_count": null,
      "id": "ebe381fb",
      "metadata": {
        "execution": {
          "iopub.execute_input": "2023-04-23T22:00:44.307934Z",
          "iopub.status.busy": "2023-04-23T22:00:44.307470Z",
          "iopub.status.idle": "2023-04-23T22:00:44.421105Z",
          "shell.execute_reply": "2023-04-23T22:00:44.419666Z"
        },
        "id": "ebe381fb",
        "outputId": "2b7d813a-fb42-464c-80b4-77c9a14b004a",
        "papermill": {
          "duration": 0.137825,
          "end_time": "2023-04-23T22:00:44.423828",
          "exception": false,
          "start_time": "2023-04-23T22:00:44.286003",
          "status": "completed"
        },
        "tags": []
      },
      "outputs": [
        {
          "data": {
            "text/html": [
              "<div>\n",
              "<style scoped>\n",
              "    .dataframe tbody tr th:only-of-type {\n",
              "        vertical-align: middle;\n",
              "    }\n",
              "\n",
              "    .dataframe tbody tr th {\n",
              "        vertical-align: top;\n",
              "    }\n",
              "\n",
              "    .dataframe thead th {\n",
              "        text-align: right;\n",
              "    }\n",
              "</style>\n",
              "<table border=\"1\" class=\"dataframe\">\n",
              "  <thead>\n",
              "    <tr style=\"text-align: right;\">\n",
              "      <th></th>\n",
              "      <th>show_id</th>\n",
              "      <th>type</th>\n",
              "      <th>title</th>\n",
              "      <th>director</th>\n",
              "      <th>cast</th>\n",
              "      <th>country</th>\n",
              "      <th>date_added</th>\n",
              "      <th>release_year</th>\n",
              "      <th>rating</th>\n",
              "      <th>duration</th>\n",
              "      <th>listed_in</th>\n",
              "      <th>description</th>\n",
              "    </tr>\n",
              "  </thead>\n",
              "  <tbody>\n",
              "    <tr>\n",
              "      <th>0</th>\n",
              "      <td>0</td>\n",
              "      <td>0</td>\n",
              "      <td>0</td>\n",
              "      <td>2634</td>\n",
              "      <td>825</td>\n",
              "      <td>831</td>\n",
              "      <td>0</td>\n",
              "      <td>0</td>\n",
              "      <td>0</td>\n",
              "      <td>0</td>\n",
              "      <td>0</td>\n",
              "      <td>0</td>\n",
              "    </tr>\n",
              "    <tr>\n",
              "      <th>1</th>\n",
              "      <td>0</td>\n",
              "      <td>0</td>\n",
              "      <td>0</td>\n",
              "      <td>0</td>\n",
              "      <td>0</td>\n",
              "      <td>0</td>\n",
              "      <td>0</td>\n",
              "      <td>0</td>\n",
              "      <td>0</td>\n",
              "      <td>0</td>\n",
              "      <td>0</td>\n",
              "      <td>0</td>\n",
              "    </tr>\n",
              "  </tbody>\n",
              "</table>\n",
              "</div>"
            ],
            "text/plain": [
              "   show_id  type  title  director  cast  country  date_added  release_year  \\\n",
              "0        0     0      0      2634   825      831           0             0   \n",
              "1        0     0      0         0     0        0           0             0   \n",
              "\n",
              "   rating  duration  listed_in  description  \n",
              "0       0         0          0            0  \n",
              "1       0         0          0            0  "
            ]
          },
          "execution_count": 27,
          "metadata": {},
          "output_type": "execute_result"
        }
      ],
      "source": [
        "pd.DataFrame([df.isna().sum(), updated_df.isna().sum()])"
      ]
    },
    {
      "cell_type": "markdown",
      "id": "ae0bae24",
      "metadata": {
        "id": "ae0bae24",
        "papermill": {
          "duration": 0.020271,
          "end_time": "2023-04-23T22:00:44.465116",
          "exception": false,
          "start_time": "2023-04-23T22:00:44.444845",
          "status": "completed"
        },
        "tags": []
      },
      "source": [
        "# 3. Non-Graphical Analysis: Value counts and unique attributes"
      ]
    },
    {
      "cell_type": "code",
      "execution_count": null,
      "id": "0644d7ac",
      "metadata": {
        "execution": {
          "iopub.execute_input": "2023-04-23T22:00:44.507847Z",
          "iopub.status.busy": "2023-04-23T22:00:44.507399Z",
          "iopub.status.idle": "2023-04-23T22:00:44.520279Z",
          "shell.execute_reply": "2023-04-23T22:00:44.519001Z"
        },
        "id": "0644d7ac",
        "outputId": "9bf68d7a-dd81-43b0-e203-efe4a87afc68",
        "papermill": {
          "duration": 0.037702,
          "end_time": "2023-04-23T22:00:44.522926",
          "exception": false,
          "start_time": "2023-04-23T22:00:44.485224",
          "status": "completed"
        },
        "tags": []
      },
      "outputs": [
        {
          "data": {
            "text/html": [
              "<div>\n",
              "<style scoped>\n",
              "    .dataframe tbody tr th:only-of-type {\n",
              "        vertical-align: middle;\n",
              "    }\n",
              "\n",
              "    .dataframe tbody tr th {\n",
              "        vertical-align: top;\n",
              "    }\n",
              "\n",
              "    .dataframe thead th {\n",
              "        text-align: right;\n",
              "    }\n",
              "</style>\n",
              "<table border=\"1\" class=\"dataframe\">\n",
              "  <thead>\n",
              "    <tr style=\"text-align: right;\">\n",
              "      <th></th>\n",
              "      <th>type</th>\n",
              "    </tr>\n",
              "  </thead>\n",
              "  <tbody>\n",
              "    <tr>\n",
              "      <th>Movie</th>\n",
              "      <td>6131</td>\n",
              "    </tr>\n",
              "    <tr>\n",
              "      <th>TV Show</th>\n",
              "      <td>2676</td>\n",
              "    </tr>\n",
              "  </tbody>\n",
              "</table>\n",
              "</div>"
            ],
            "text/plain": [
              "         type\n",
              "Movie    6131\n",
              "TV Show  2676"
            ]
          },
          "execution_count": 28,
          "metadata": {},
          "output_type": "execute_result"
        }
      ],
      "source": [
        "pd.DataFrame(df['type'].value_counts())"
      ]
    },
    {
      "cell_type": "code",
      "execution_count": null,
      "id": "98ee1fcb",
      "metadata": {
        "execution": {
          "iopub.execute_input": "2023-04-23T22:00:44.567209Z",
          "iopub.status.busy": "2023-04-23T22:00:44.566791Z",
          "iopub.status.idle": "2023-04-23T22:00:44.582016Z",
          "shell.execute_reply": "2023-04-23T22:00:44.581060Z"
        },
        "id": "98ee1fcb",
        "outputId": "e5a56103-1dbc-4038-d0b7-dd4586693dc3",
        "papermill": {
          "duration": 0.040149,
          "end_time": "2023-04-23T22:00:44.584688",
          "exception": false,
          "start_time": "2023-04-23T22:00:44.544539",
          "status": "completed"
        },
        "tags": []
      },
      "outputs": [
        {
          "data": {
            "text/html": [
              "<div>\n",
              "<style scoped>\n",
              "    .dataframe tbody tr th:only-of-type {\n",
              "        vertical-align: middle;\n",
              "    }\n",
              "\n",
              "    .dataframe tbody tr th {\n",
              "        vertical-align: top;\n",
              "    }\n",
              "\n",
              "    .dataframe thead th {\n",
              "        text-align: right;\n",
              "    }\n",
              "</style>\n",
              "<table border=\"1\" class=\"dataframe\">\n",
              "  <thead>\n",
              "    <tr style=\"text-align: right;\">\n",
              "      <th></th>\n",
              "      <th>director</th>\n",
              "    </tr>\n",
              "  </thead>\n",
              "  <tbody>\n",
              "    <tr>\n",
              "      <th>no director</th>\n",
              "      <td>2634</td>\n",
              "    </tr>\n",
              "    <tr>\n",
              "      <th>Rajiv Chilaka</th>\n",
              "      <td>22</td>\n",
              "    </tr>\n",
              "    <tr>\n",
              "      <th>Jan Suter</th>\n",
              "      <td>21</td>\n",
              "    </tr>\n",
              "    <tr>\n",
              "      <th>Raúl Campos</th>\n",
              "      <td>19</td>\n",
              "    </tr>\n",
              "    <tr>\n",
              "      <th>Suhas Kadav</th>\n",
              "      <td>16</td>\n",
              "    </tr>\n",
              "    <tr>\n",
              "      <th>...</th>\n",
              "      <td>...</td>\n",
              "    </tr>\n",
              "    <tr>\n",
              "      <th>Raymie Muzquiz</th>\n",
              "      <td>1</td>\n",
              "    </tr>\n",
              "    <tr>\n",
              "      <th>Stu Livingston</th>\n",
              "      <td>1</td>\n",
              "    </tr>\n",
              "    <tr>\n",
              "      <th>Joe Menendez</th>\n",
              "      <td>1</td>\n",
              "    </tr>\n",
              "    <tr>\n",
              "      <th>Eric Bross</th>\n",
              "      <td>1</td>\n",
              "    </tr>\n",
              "    <tr>\n",
              "      <th>Mozez Singh</th>\n",
              "      <td>1</td>\n",
              "    </tr>\n",
              "  </tbody>\n",
              "</table>\n",
              "<p>4994 rows × 1 columns</p>\n",
              "</div>"
            ],
            "text/plain": [
              "                director\n",
              "no director         2634\n",
              "Rajiv Chilaka         22\n",
              "Jan Suter             21\n",
              "Raúl Campos           19\n",
              "Suhas Kadav           16\n",
              "...                  ...\n",
              "Raymie Muzquiz         1\n",
              "Stu Livingston         1\n",
              "Joe Menendez           1\n",
              "Eric Bross             1\n",
              "Mozez Singh            1\n",
              "\n",
              "[4994 rows x 1 columns]"
            ]
          },
          "execution_count": 29,
          "metadata": {},
          "output_type": "execute_result"
        }
      ],
      "source": [
        "pd.DataFrame(df_director['director'].value_counts())"
      ]
    },
    {
      "cell_type": "code",
      "execution_count": null,
      "id": "f1622ba4",
      "metadata": {
        "execution": {
          "iopub.execute_input": "2023-04-23T22:00:44.630050Z",
          "iopub.status.busy": "2023-04-23T22:00:44.629639Z",
          "iopub.status.idle": "2023-04-23T22:00:44.674491Z",
          "shell.execute_reply": "2023-04-23T22:00:44.673501Z"
        },
        "id": "f1622ba4",
        "outputId": "aad40ad3-0785-4a7c-ae8c-ce76bbe6d561",
        "papermill": {
          "duration": 0.071193,
          "end_time": "2023-04-23T22:00:44.677074",
          "exception": false,
          "start_time": "2023-04-23T22:00:44.605881",
          "status": "completed"
        },
        "tags": []
      },
      "outputs": [
        {
          "data": {
            "text/html": [
              "<div>\n",
              "<style scoped>\n",
              "    .dataframe tbody tr th:only-of-type {\n",
              "        vertical-align: middle;\n",
              "    }\n",
              "\n",
              "    .dataframe tbody tr th {\n",
              "        vertical-align: top;\n",
              "    }\n",
              "\n",
              "    .dataframe thead th {\n",
              "        text-align: right;\n",
              "    }\n",
              "</style>\n",
              "<table border=\"1\" class=\"dataframe\">\n",
              "  <thead>\n",
              "    <tr style=\"text-align: right;\">\n",
              "      <th></th>\n",
              "      <th>cast</th>\n",
              "    </tr>\n",
              "  </thead>\n",
              "  <tbody>\n",
              "    <tr>\n",
              "      <th>no cast</th>\n",
              "      <td>825</td>\n",
              "    </tr>\n",
              "    <tr>\n",
              "      <th>Anupam Kher</th>\n",
              "      <td>43</td>\n",
              "    </tr>\n",
              "    <tr>\n",
              "      <th>Shah Rukh Khan</th>\n",
              "      <td>35</td>\n",
              "    </tr>\n",
              "    <tr>\n",
              "      <th>Julie Tejwani</th>\n",
              "      <td>33</td>\n",
              "    </tr>\n",
              "    <tr>\n",
              "      <th>Naseeruddin Shah</th>\n",
              "      <td>32</td>\n",
              "    </tr>\n",
              "    <tr>\n",
              "      <th>...</th>\n",
              "      <td>...</td>\n",
              "    </tr>\n",
              "    <tr>\n",
              "      <th>Melanie Straub</th>\n",
              "      <td>1</td>\n",
              "    </tr>\n",
              "    <tr>\n",
              "      <th>Gabriela Maria Schmeide</th>\n",
              "      <td>1</td>\n",
              "    </tr>\n",
              "    <tr>\n",
              "      <th>Helena Zengel</th>\n",
              "      <td>1</td>\n",
              "    </tr>\n",
              "    <tr>\n",
              "      <th>Daniel Valenzuela</th>\n",
              "      <td>1</td>\n",
              "    </tr>\n",
              "    <tr>\n",
              "      <th>Chittaranjan Tripathy</th>\n",
              "      <td>1</td>\n",
              "    </tr>\n",
              "  </tbody>\n",
              "</table>\n",
              "<p>36440 rows × 1 columns</p>\n",
              "</div>"
            ],
            "text/plain": [
              "                         cast\n",
              "no cast                   825\n",
              "Anupam Kher                43\n",
              "Shah Rukh Khan             35\n",
              "Julie Tejwani              33\n",
              "Naseeruddin Shah           32\n",
              "...                       ...\n",
              "Melanie Straub              1\n",
              "Gabriela Maria Schmeide     1\n",
              "Helena Zengel               1\n",
              "Daniel Valenzuela           1\n",
              "Chittaranjan Tripathy       1\n",
              "\n",
              "[36440 rows x 1 columns]"
            ]
          },
          "execution_count": 30,
          "metadata": {},
          "output_type": "execute_result"
        }
      ],
      "source": [
        "pd.DataFrame(df_cast['cast'].value_counts())"
      ]
    },
    {
      "cell_type": "code",
      "execution_count": null,
      "id": "23e5e6a0",
      "metadata": {
        "execution": {
          "iopub.execute_input": "2023-04-23T22:00:44.723220Z",
          "iopub.status.busy": "2023-04-23T22:00:44.722480Z",
          "iopub.status.idle": "2023-04-23T22:00:44.735864Z",
          "shell.execute_reply": "2023-04-23T22:00:44.734475Z"
        },
        "id": "23e5e6a0",
        "outputId": "93f66c75-b8d9-4d8f-d68b-0d62549a3af4",
        "papermill": {
          "duration": 0.04039,
          "end_time": "2023-04-23T22:00:44.738633",
          "exception": false,
          "start_time": "2023-04-23T22:00:44.698243",
          "status": "completed"
        },
        "tags": []
      },
      "outputs": [
        {
          "data": {
            "text/html": [
              "<div>\n",
              "<style scoped>\n",
              "    .dataframe tbody tr th:only-of-type {\n",
              "        vertical-align: middle;\n",
              "    }\n",
              "\n",
              "    .dataframe tbody tr th {\n",
              "        vertical-align: top;\n",
              "    }\n",
              "\n",
              "    .dataframe thead th {\n",
              "        text-align: right;\n",
              "    }\n",
              "</style>\n",
              "<table border=\"1\" class=\"dataframe\">\n",
              "  <thead>\n",
              "    <tr style=\"text-align: right;\">\n",
              "      <th></th>\n",
              "      <th>country</th>\n",
              "    </tr>\n",
              "  </thead>\n",
              "  <tbody>\n",
              "    <tr>\n",
              "      <th>United States</th>\n",
              "      <td>3690</td>\n",
              "    </tr>\n",
              "    <tr>\n",
              "      <th>India</th>\n",
              "      <td>1046</td>\n",
              "    </tr>\n",
              "    <tr>\n",
              "      <th>no country</th>\n",
              "      <td>831</td>\n",
              "    </tr>\n",
              "    <tr>\n",
              "      <th>United Kingdom</th>\n",
              "      <td>806</td>\n",
              "    </tr>\n",
              "    <tr>\n",
              "      <th>Canada</th>\n",
              "      <td>445</td>\n",
              "    </tr>\n",
              "    <tr>\n",
              "      <th>...</th>\n",
              "      <td>...</td>\n",
              "    </tr>\n",
              "    <tr>\n",
              "      <th>Ecuador</th>\n",
              "      <td>1</td>\n",
              "    </tr>\n",
              "    <tr>\n",
              "      <th>Armenia</th>\n",
              "      <td>1</td>\n",
              "    </tr>\n",
              "    <tr>\n",
              "      <th>Mongolia</th>\n",
              "      <td>1</td>\n",
              "    </tr>\n",
              "    <tr>\n",
              "      <th>Bahamas</th>\n",
              "      <td>1</td>\n",
              "    </tr>\n",
              "    <tr>\n",
              "      <th>Montenegro</th>\n",
              "      <td>1</td>\n",
              "    </tr>\n",
              "  </tbody>\n",
              "</table>\n",
              "<p>124 rows × 1 columns</p>\n",
              "</div>"
            ],
            "text/plain": [
              "                country\n",
              "United States      3690\n",
              "India              1046\n",
              "no country          831\n",
              "United Kingdom      806\n",
              "Canada              445\n",
              "...                 ...\n",
              "Ecuador               1\n",
              "Armenia               1\n",
              "Mongolia              1\n",
              "Bahamas               1\n",
              "Montenegro            1\n",
              "\n",
              "[124 rows x 1 columns]"
            ]
          },
          "execution_count": 31,
          "metadata": {},
          "output_type": "execute_result"
        }
      ],
      "source": [
        "pd.DataFrame(df_country['country'].value_counts())"
      ]
    },
    {
      "cell_type": "code",
      "execution_count": null,
      "id": "63536dcc",
      "metadata": {
        "execution": {
          "iopub.execute_input": "2023-04-23T22:00:44.784899Z",
          "iopub.status.busy": "2023-04-23T22:00:44.784459Z",
          "iopub.status.idle": "2023-04-23T22:00:44.799385Z",
          "shell.execute_reply": "2023-04-23T22:00:44.798062Z"
        },
        "id": "63536dcc",
        "outputId": "59863e81-0501-4eef-9b87-ea1c9d868cc0",
        "papermill": {
          "duration": 0.041829,
          "end_time": "2023-04-23T22:00:44.802061",
          "exception": false,
          "start_time": "2023-04-23T22:00:44.760232",
          "status": "completed"
        },
        "tags": []
      },
      "outputs": [
        {
          "data": {
            "text/html": [
              "<div>\n",
              "<style scoped>\n",
              "    .dataframe tbody tr th:only-of-type {\n",
              "        vertical-align: middle;\n",
              "    }\n",
              "\n",
              "    .dataframe tbody tr th {\n",
              "        vertical-align: top;\n",
              "    }\n",
              "\n",
              "    .dataframe thead th {\n",
              "        text-align: right;\n",
              "    }\n",
              "</style>\n",
              "<table border=\"1\" class=\"dataframe\">\n",
              "  <thead>\n",
              "    <tr style=\"text-align: right;\">\n",
              "      <th></th>\n",
              "      <th>date_added</th>\n",
              "    </tr>\n",
              "  </thead>\n",
              "  <tbody>\n",
              "    <tr>\n",
              "      <th>2020-01-01</th>\n",
              "      <td>110</td>\n",
              "    </tr>\n",
              "    <tr>\n",
              "      <th>2019-11-01</th>\n",
              "      <td>91</td>\n",
              "    </tr>\n",
              "    <tr>\n",
              "      <th>2018-03-01</th>\n",
              "      <td>75</td>\n",
              "    </tr>\n",
              "    <tr>\n",
              "      <th>2019-12-31</th>\n",
              "      <td>74</td>\n",
              "    </tr>\n",
              "    <tr>\n",
              "      <th>2018-10-01</th>\n",
              "      <td>71</td>\n",
              "    </tr>\n",
              "    <tr>\n",
              "      <th>...</th>\n",
              "      <td>...</td>\n",
              "    </tr>\n",
              "    <tr>\n",
              "      <th>2017-02-21</th>\n",
              "      <td>1</td>\n",
              "    </tr>\n",
              "    <tr>\n",
              "      <th>2017-02-07</th>\n",
              "      <td>1</td>\n",
              "    </tr>\n",
              "    <tr>\n",
              "      <th>2017-01-29</th>\n",
              "      <td>1</td>\n",
              "    </tr>\n",
              "    <tr>\n",
              "      <th>2017-01-25</th>\n",
              "      <td>1</td>\n",
              "    </tr>\n",
              "    <tr>\n",
              "      <th>2020-01-11</th>\n",
              "      <td>1</td>\n",
              "    </tr>\n",
              "  </tbody>\n",
              "</table>\n",
              "<p>1715 rows × 1 columns</p>\n",
              "</div>"
            ],
            "text/plain": [
              "            date_added\n",
              "2020-01-01         110\n",
              "2019-11-01          91\n",
              "2018-03-01          75\n",
              "2019-12-31          74\n",
              "2018-10-01          71\n",
              "...                ...\n",
              "2017-02-21           1\n",
              "2017-02-07           1\n",
              "2017-01-29           1\n",
              "2017-01-25           1\n",
              "2020-01-11           1\n",
              "\n",
              "[1715 rows x 1 columns]"
            ]
          },
          "execution_count": 32,
          "metadata": {},
          "output_type": "execute_result"
        }
      ],
      "source": [
        "pd.DataFrame(df['date_added'].value_counts())"
      ]
    },
    {
      "cell_type": "code",
      "execution_count": null,
      "id": "183b839f",
      "metadata": {
        "execution": {
          "iopub.execute_input": "2023-04-23T22:00:44.849993Z",
          "iopub.status.busy": "2023-04-23T22:00:44.849131Z",
          "iopub.status.idle": "2023-04-23T22:00:44.863087Z",
          "shell.execute_reply": "2023-04-23T22:00:44.861834Z"
        },
        "id": "183b839f",
        "outputId": "689eee2c-a4b0-4c3a-e456-854a3d1e9be9",
        "papermill": {
          "duration": 0.041582,
          "end_time": "2023-04-23T22:00:44.865804",
          "exception": false,
          "start_time": "2023-04-23T22:00:44.824222",
          "status": "completed"
        },
        "tags": []
      },
      "outputs": [
        {
          "data": {
            "text/html": [
              "<div>\n",
              "<style scoped>\n",
              "    .dataframe tbody tr th:only-of-type {\n",
              "        vertical-align: middle;\n",
              "    }\n",
              "\n",
              "    .dataframe tbody tr th {\n",
              "        vertical-align: top;\n",
              "    }\n",
              "\n",
              "    .dataframe thead th {\n",
              "        text-align: right;\n",
              "    }\n",
              "</style>\n",
              "<table border=\"1\" class=\"dataframe\">\n",
              "  <thead>\n",
              "    <tr style=\"text-align: right;\">\n",
              "      <th></th>\n",
              "      <th>release_year</th>\n",
              "    </tr>\n",
              "  </thead>\n",
              "  <tbody>\n",
              "    <tr>\n",
              "      <th>2018</th>\n",
              "      <td>1147</td>\n",
              "    </tr>\n",
              "    <tr>\n",
              "      <th>2017</th>\n",
              "      <td>1032</td>\n",
              "    </tr>\n",
              "    <tr>\n",
              "      <th>2019</th>\n",
              "      <td>1030</td>\n",
              "    </tr>\n",
              "    <tr>\n",
              "      <th>2020</th>\n",
              "      <td>953</td>\n",
              "    </tr>\n",
              "    <tr>\n",
              "      <th>2016</th>\n",
              "      <td>902</td>\n",
              "    </tr>\n",
              "    <tr>\n",
              "      <th>...</th>\n",
              "      <td>...</td>\n",
              "    </tr>\n",
              "    <tr>\n",
              "      <th>1959</th>\n",
              "      <td>1</td>\n",
              "    </tr>\n",
              "    <tr>\n",
              "      <th>1925</th>\n",
              "      <td>1</td>\n",
              "    </tr>\n",
              "    <tr>\n",
              "      <th>1961</th>\n",
              "      <td>1</td>\n",
              "    </tr>\n",
              "    <tr>\n",
              "      <th>1947</th>\n",
              "      <td>1</td>\n",
              "    </tr>\n",
              "    <tr>\n",
              "      <th>1966</th>\n",
              "      <td>1</td>\n",
              "    </tr>\n",
              "  </tbody>\n",
              "</table>\n",
              "<p>74 rows × 1 columns</p>\n",
              "</div>"
            ],
            "text/plain": [
              "      release_year\n",
              "2018          1147\n",
              "2017          1032\n",
              "2019          1030\n",
              "2020           953\n",
              "2016           902\n",
              "...            ...\n",
              "1959             1\n",
              "1925             1\n",
              "1961             1\n",
              "1947             1\n",
              "1966             1\n",
              "\n",
              "[74 rows x 1 columns]"
            ]
          },
          "execution_count": 33,
          "metadata": {},
          "output_type": "execute_result"
        }
      ],
      "source": [
        "pd.DataFrame(df['release_year'].value_counts())"
      ]
    },
    {
      "cell_type": "code",
      "execution_count": null,
      "id": "4ebae765",
      "metadata": {
        "execution": {
          "iopub.execute_input": "2023-04-23T22:00:44.911319Z",
          "iopub.status.busy": "2023-04-23T22:00:44.910867Z",
          "iopub.status.idle": "2023-04-23T22:00:44.922649Z",
          "shell.execute_reply": "2023-04-23T22:00:44.921671Z"
        },
        "id": "4ebae765",
        "outputId": "e2074641-8147-4188-eaa1-e19af588d1bb",
        "papermill": {
          "duration": 0.037957,
          "end_time": "2023-04-23T22:00:44.925545",
          "exception": false,
          "start_time": "2023-04-23T22:00:44.887588",
          "status": "completed"
        },
        "tags": []
      },
      "outputs": [
        {
          "data": {
            "text/html": [
              "<div>\n",
              "<style scoped>\n",
              "    .dataframe tbody tr th:only-of-type {\n",
              "        vertical-align: middle;\n",
              "    }\n",
              "\n",
              "    .dataframe tbody tr th {\n",
              "        vertical-align: top;\n",
              "    }\n",
              "\n",
              "    .dataframe thead th {\n",
              "        text-align: right;\n",
              "    }\n",
              "</style>\n",
              "<table border=\"1\" class=\"dataframe\">\n",
              "  <thead>\n",
              "    <tr style=\"text-align: right;\">\n",
              "      <th></th>\n",
              "      <th>rating</th>\n",
              "    </tr>\n",
              "  </thead>\n",
              "  <tbody>\n",
              "    <tr>\n",
              "      <th>TV-MA</th>\n",
              "      <td>3214</td>\n",
              "    </tr>\n",
              "    <tr>\n",
              "      <th>TV-14</th>\n",
              "      <td>2160</td>\n",
              "    </tr>\n",
              "    <tr>\n",
              "      <th>TV-PG</th>\n",
              "      <td>863</td>\n",
              "    </tr>\n",
              "    <tr>\n",
              "      <th>R</th>\n",
              "      <td>799</td>\n",
              "    </tr>\n",
              "    <tr>\n",
              "      <th>PG-13</th>\n",
              "      <td>490</td>\n",
              "    </tr>\n",
              "    <tr>\n",
              "      <th>TV-Y7</th>\n",
              "      <td>334</td>\n",
              "    </tr>\n",
              "    <tr>\n",
              "      <th>TV-Y</th>\n",
              "      <td>307</td>\n",
              "    </tr>\n",
              "    <tr>\n",
              "      <th>PG</th>\n",
              "      <td>287</td>\n",
              "    </tr>\n",
              "    <tr>\n",
              "      <th>TV-G</th>\n",
              "      <td>220</td>\n",
              "    </tr>\n",
              "    <tr>\n",
              "      <th>NR</th>\n",
              "      <td>80</td>\n",
              "    </tr>\n",
              "    <tr>\n",
              "      <th>G</th>\n",
              "      <td>41</td>\n",
              "    </tr>\n",
              "    <tr>\n",
              "      <th>TV-Y7-FV</th>\n",
              "      <td>6</td>\n",
              "    </tr>\n",
              "    <tr>\n",
              "      <th>NC-17</th>\n",
              "      <td>3</td>\n",
              "    </tr>\n",
              "    <tr>\n",
              "      <th>UR</th>\n",
              "      <td>3</td>\n",
              "    </tr>\n",
              "  </tbody>\n",
              "</table>\n",
              "</div>"
            ],
            "text/plain": [
              "          rating\n",
              "TV-MA       3214\n",
              "TV-14       2160\n",
              "TV-PG        863\n",
              "R            799\n",
              "PG-13        490\n",
              "TV-Y7        334\n",
              "TV-Y         307\n",
              "PG           287\n",
              "TV-G         220\n",
              "NR            80\n",
              "G             41\n",
              "TV-Y7-FV       6\n",
              "NC-17          3\n",
              "UR             3"
            ]
          },
          "execution_count": 34,
          "metadata": {},
          "output_type": "execute_result"
        }
      ],
      "source": [
        "pd.DataFrame(df['rating'].value_counts())"
      ]
    },
    {
      "cell_type": "code",
      "execution_count": null,
      "id": "51cd8b3a",
      "metadata": {
        "execution": {
          "iopub.execute_input": "2023-04-23T22:00:44.972175Z",
          "iopub.status.busy": "2023-04-23T22:00:44.971008Z",
          "iopub.status.idle": "2023-04-23T22:00:44.987203Z",
          "shell.execute_reply": "2023-04-23T22:00:44.985890Z"
        },
        "id": "51cd8b3a",
        "outputId": "72353a8a-8077-4bc2-bde2-4e9d0fc91de9",
        "papermill": {
          "duration": 0.041971,
          "end_time": "2023-04-23T22:00:44.989882",
          "exception": false,
          "start_time": "2023-04-23T22:00:44.947911",
          "status": "completed"
        },
        "tags": []
      },
      "outputs": [
        {
          "data": {
            "text/html": [
              "<div>\n",
              "<style scoped>\n",
              "    .dataframe tbody tr th:only-of-type {\n",
              "        vertical-align: middle;\n",
              "    }\n",
              "\n",
              "    .dataframe tbody tr th {\n",
              "        vertical-align: top;\n",
              "    }\n",
              "\n",
              "    .dataframe thead th {\n",
              "        text-align: right;\n",
              "    }\n",
              "</style>\n",
              "<table border=\"1\" class=\"dataframe\">\n",
              "  <thead>\n",
              "    <tr style=\"text-align: right;\">\n",
              "      <th></th>\n",
              "      <th>duration</th>\n",
              "    </tr>\n",
              "  </thead>\n",
              "  <tbody>\n",
              "    <tr>\n",
              "      <th>1.0</th>\n",
              "      <td>1793</td>\n",
              "    </tr>\n",
              "    <tr>\n",
              "      <th>2.0</th>\n",
              "      <td>425</td>\n",
              "    </tr>\n",
              "    <tr>\n",
              "      <th>3.0</th>\n",
              "      <td>200</td>\n",
              "    </tr>\n",
              "    <tr>\n",
              "      <th>90.0</th>\n",
              "      <td>152</td>\n",
              "    </tr>\n",
              "    <tr>\n",
              "      <th>94.0</th>\n",
              "      <td>146</td>\n",
              "    </tr>\n",
              "    <tr>\n",
              "      <th>...</th>\n",
              "      <td>...</td>\n",
              "    </tr>\n",
              "    <tr>\n",
              "      <th>189.0</th>\n",
              "      <td>1</td>\n",
              "    </tr>\n",
              "    <tr>\n",
              "      <th>273.0</th>\n",
              "      <td>1</td>\n",
              "    </tr>\n",
              "    <tr>\n",
              "      <th>212.0</th>\n",
              "      <td>1</td>\n",
              "    </tr>\n",
              "    <tr>\n",
              "      <th>224.0</th>\n",
              "      <td>1</td>\n",
              "    </tr>\n",
              "    <tr>\n",
              "      <th>191.0</th>\n",
              "      <td>1</td>\n",
              "    </tr>\n",
              "  </tbody>\n",
              "</table>\n",
              "<p>210 rows × 1 columns</p>\n",
              "</div>"
            ],
            "text/plain": [
              "       duration\n",
              "1.0        1793\n",
              "2.0         425\n",
              "3.0         200\n",
              "90.0        152\n",
              "94.0        146\n",
              "...         ...\n",
              "189.0         1\n",
              "273.0         1\n",
              "212.0         1\n",
              "224.0         1\n",
              "191.0         1\n",
              "\n",
              "[210 rows x 1 columns]"
            ]
          },
          "execution_count": 35,
          "metadata": {},
          "output_type": "execute_result"
        }
      ],
      "source": [
        "pd.DataFrame(df['duration'].value_counts())"
      ]
    },
    {
      "cell_type": "code",
      "execution_count": null,
      "id": "c9a29a24",
      "metadata": {
        "execution": {
          "iopub.execute_input": "2023-04-23T22:00:45.036368Z",
          "iopub.status.busy": "2023-04-23T22:00:45.035363Z",
          "iopub.status.idle": "2023-04-23T22:00:45.053098Z",
          "shell.execute_reply": "2023-04-23T22:00:45.051731Z"
        },
        "id": "c9a29a24",
        "outputId": "ae55c8fd-2ed7-4722-a3da-5cd65233ee12",
        "papermill": {
          "duration": 0.044196,
          "end_time": "2023-04-23T22:00:45.056064",
          "exception": false,
          "start_time": "2023-04-23T22:00:45.011868",
          "status": "completed"
        },
        "tags": []
      },
      "outputs": [
        {
          "data": {
            "text/html": [
              "<div>\n",
              "<style scoped>\n",
              "    .dataframe tbody tr th:only-of-type {\n",
              "        vertical-align: middle;\n",
              "    }\n",
              "\n",
              "    .dataframe tbody tr th {\n",
              "        vertical-align: top;\n",
              "    }\n",
              "\n",
              "    .dataframe thead th {\n",
              "        text-align: right;\n",
              "    }\n",
              "</style>\n",
              "<table border=\"1\" class=\"dataframe\">\n",
              "  <thead>\n",
              "    <tr style=\"text-align: right;\">\n",
              "      <th></th>\n",
              "      <th>listed_in</th>\n",
              "    </tr>\n",
              "  </thead>\n",
              "  <tbody>\n",
              "    <tr>\n",
              "      <th>International Movies</th>\n",
              "      <td>2752</td>\n",
              "    </tr>\n",
              "    <tr>\n",
              "      <th>Dramas</th>\n",
              "      <td>2427</td>\n",
              "    </tr>\n",
              "    <tr>\n",
              "      <th>Comedies</th>\n",
              "      <td>1674</td>\n",
              "    </tr>\n",
              "    <tr>\n",
              "      <th>International TV Shows</th>\n",
              "      <td>1351</td>\n",
              "    </tr>\n",
              "    <tr>\n",
              "      <th>Documentaries</th>\n",
              "      <td>869</td>\n",
              "    </tr>\n",
              "    <tr>\n",
              "      <th>Action &amp; Adventure</th>\n",
              "      <td>859</td>\n",
              "    </tr>\n",
              "    <tr>\n",
              "      <th>TV Dramas</th>\n",
              "      <td>763</td>\n",
              "    </tr>\n",
              "    <tr>\n",
              "      <th>Independent Movies</th>\n",
              "      <td>756</td>\n",
              "    </tr>\n",
              "    <tr>\n",
              "      <th>Children &amp; Family Movies</th>\n",
              "      <td>641</td>\n",
              "    </tr>\n",
              "    <tr>\n",
              "      <th>Romantic Movies</th>\n",
              "      <td>616</td>\n",
              "    </tr>\n",
              "    <tr>\n",
              "      <th>TV Comedies</th>\n",
              "      <td>581</td>\n",
              "    </tr>\n",
              "    <tr>\n",
              "      <th>Thrillers</th>\n",
              "      <td>577</td>\n",
              "    </tr>\n",
              "    <tr>\n",
              "      <th>Crime TV Shows</th>\n",
              "      <td>470</td>\n",
              "    </tr>\n",
              "    <tr>\n",
              "      <th>Kids' TV</th>\n",
              "      <td>451</td>\n",
              "    </tr>\n",
              "    <tr>\n",
              "      <th>Docuseries</th>\n",
              "      <td>395</td>\n",
              "    </tr>\n",
              "    <tr>\n",
              "      <th>Music &amp; Musicals</th>\n",
              "      <td>375</td>\n",
              "    </tr>\n",
              "    <tr>\n",
              "      <th>Romantic TV Shows</th>\n",
              "      <td>370</td>\n",
              "    </tr>\n",
              "    <tr>\n",
              "      <th>Horror Movies</th>\n",
              "      <td>357</td>\n",
              "    </tr>\n",
              "    <tr>\n",
              "      <th>Stand-Up Comedy</th>\n",
              "      <td>343</td>\n",
              "    </tr>\n",
              "    <tr>\n",
              "      <th>Reality TV</th>\n",
              "      <td>255</td>\n",
              "    </tr>\n",
              "    <tr>\n",
              "      <th>British TV Shows</th>\n",
              "      <td>253</td>\n",
              "    </tr>\n",
              "    <tr>\n",
              "      <th>Sci-Fi &amp; Fantasy</th>\n",
              "      <td>243</td>\n",
              "    </tr>\n",
              "    <tr>\n",
              "      <th>Sports Movies</th>\n",
              "      <td>219</td>\n",
              "    </tr>\n",
              "    <tr>\n",
              "      <th>Anime Series</th>\n",
              "      <td>176</td>\n",
              "    </tr>\n",
              "    <tr>\n",
              "      <th>Spanish-Language TV Shows</th>\n",
              "      <td>174</td>\n",
              "    </tr>\n",
              "    <tr>\n",
              "      <th>TV Action &amp; Adventure</th>\n",
              "      <td>168</td>\n",
              "    </tr>\n",
              "    <tr>\n",
              "      <th>Korean TV Shows</th>\n",
              "      <td>151</td>\n",
              "    </tr>\n",
              "    <tr>\n",
              "      <th>Classic Movies</th>\n",
              "      <td>116</td>\n",
              "    </tr>\n",
              "    <tr>\n",
              "      <th>LGBTQ Movies</th>\n",
              "      <td>102</td>\n",
              "    </tr>\n",
              "    <tr>\n",
              "      <th>TV Mysteries</th>\n",
              "      <td>98</td>\n",
              "    </tr>\n",
              "    <tr>\n",
              "      <th>Science &amp; Nature TV</th>\n",
              "      <td>92</td>\n",
              "    </tr>\n",
              "    <tr>\n",
              "      <th>TV Sci-Fi &amp; Fantasy</th>\n",
              "      <td>84</td>\n",
              "    </tr>\n",
              "    <tr>\n",
              "      <th>TV Horror</th>\n",
              "      <td>75</td>\n",
              "    </tr>\n",
              "    <tr>\n",
              "      <th>Anime Features</th>\n",
              "      <td>71</td>\n",
              "    </tr>\n",
              "    <tr>\n",
              "      <th>Cult Movies</th>\n",
              "      <td>71</td>\n",
              "    </tr>\n",
              "    <tr>\n",
              "      <th>Teen TV Shows</th>\n",
              "      <td>69</td>\n",
              "    </tr>\n",
              "    <tr>\n",
              "      <th>Faith &amp; Spirituality</th>\n",
              "      <td>65</td>\n",
              "    </tr>\n",
              "    <tr>\n",
              "      <th>TV Thrillers</th>\n",
              "      <td>57</td>\n",
              "    </tr>\n",
              "    <tr>\n",
              "      <th>Movies</th>\n",
              "      <td>57</td>\n",
              "    </tr>\n",
              "    <tr>\n",
              "      <th>Stand-Up Comedy &amp; Talk Shows</th>\n",
              "      <td>56</td>\n",
              "    </tr>\n",
              "    <tr>\n",
              "      <th>Classic &amp; Cult TV</th>\n",
              "      <td>28</td>\n",
              "    </tr>\n",
              "    <tr>\n",
              "      <th>TV Shows</th>\n",
              "      <td>16</td>\n",
              "    </tr>\n",
              "  </tbody>\n",
              "</table>\n",
              "</div>"
            ],
            "text/plain": [
              "                              listed_in\n",
              "International Movies               2752\n",
              "Dramas                             2427\n",
              "Comedies                           1674\n",
              "International TV Shows             1351\n",
              "Documentaries                       869\n",
              "Action & Adventure                  859\n",
              "TV Dramas                           763\n",
              "Independent Movies                  756\n",
              "Children & Family Movies            641\n",
              "Romantic Movies                     616\n",
              "TV Comedies                         581\n",
              "Thrillers                           577\n",
              "Crime TV Shows                      470\n",
              "Kids' TV                            451\n",
              "Docuseries                          395\n",
              "Music & Musicals                    375\n",
              "Romantic TV Shows                   370\n",
              "Horror Movies                       357\n",
              "Stand-Up Comedy                     343\n",
              "Reality TV                          255\n",
              "British TV Shows                    253\n",
              "Sci-Fi & Fantasy                    243\n",
              "Sports Movies                       219\n",
              "Anime Series                        176\n",
              "Spanish-Language TV Shows           174\n",
              "TV Action & Adventure               168\n",
              "Korean TV Shows                     151\n",
              "Classic Movies                      116\n",
              "LGBTQ Movies                        102\n",
              "TV Mysteries                         98\n",
              "Science & Nature TV                  92\n",
              "TV Sci-Fi & Fantasy                  84\n",
              "TV Horror                            75\n",
              "Anime Features                       71\n",
              "Cult Movies                          71\n",
              "Teen TV Shows                        69\n",
              "Faith & Spirituality                 65\n",
              "TV Thrillers                         57\n",
              "Movies                               57\n",
              "Stand-Up Comedy & Talk Shows         56\n",
              "Classic & Cult TV                    28\n",
              "TV Shows                             16"
            ]
          },
          "execution_count": 36,
          "metadata": {},
          "output_type": "execute_result"
        }
      ],
      "source": [
        "pd.DataFrame(df_listed['listed_in'].value_counts())"
      ]
    },
    {
      "cell_type": "markdown",
      "id": "2b6cf613",
      "metadata": {
        "id": "2b6cf613",
        "papermill": {
          "duration": 0.022598,
          "end_time": "2023-04-23T22:00:45.101391",
          "exception": false,
          "start_time": "2023-04-23T22:00:45.078793",
          "status": "completed"
        },
        "tags": []
      },
      "source": [
        "# 4. Visual Analysis - Univariate, Bivariate after pre-processing of the data"
      ]
    },
    {
      "cell_type": "markdown",
      "id": "68fd7473",
      "metadata": {
        "id": "68fd7473",
        "papermill": {
          "duration": 0.022178,
          "end_time": "2023-04-23T22:00:45.146328",
          "exception": false,
          "start_time": "2023-04-23T22:00:45.124150",
          "status": "completed"
        },
        "tags": []
      },
      "source": [
        "## 4.1 For continuous variable(s): Distplot, countplot, histogram for univariate analysis"
      ]
    },
    {
      "cell_type": "code",
      "execution_count": null,
      "id": "fba8d517",
      "metadata": {
        "execution": {
          "iopub.execute_input": "2023-04-23T22:00:45.197585Z",
          "iopub.status.busy": "2023-04-23T22:00:45.196711Z",
          "iopub.status.idle": "2023-04-23T22:00:45.541464Z",
          "shell.execute_reply": "2023-04-23T22:00:45.540067Z"
        },
        "id": "fba8d517",
        "outputId": "5a489af7-ce48-4e4e-b4ed-dd9fb71d652f",
        "papermill": {
          "duration": 0.372893,
          "end_time": "2023-04-23T22:00:45.544156",
          "exception": false,
          "start_time": "2023-04-23T22:00:45.171263",
          "status": "completed"
        },
        "tags": []
      },
      "outputs": [
        {
          "data": {
            "image/png": "[encoded data removed]",
            "text/plain": [
              "<Figure size 1000x600 with 1 Axes>"
            ]
          },
          "metadata": {},
          "output_type": "display_data"
        }
      ],
      "source": [
        "plt.figure(figsize=(10, 6))\n",
        "df['date_added'].hist()\n",
        "plt.show()"
      ]
    },
    {
      "cell_type": "code",
      "execution_count": null,
      "id": "45ff6e9d",
      "metadata": {
        "execution": {
          "iopub.execute_input": "2023-04-23T22:00:45.940136Z",
          "iopub.status.busy": "2023-04-23T22:00:45.939149Z",
          "iopub.status.idle": "2023-04-23T22:00:47.098737Z",
          "shell.execute_reply": "2023-04-23T22:00:47.097331Z"
        },
        "id": "45ff6e9d",
        "outputId": "26d6f3c0-4bd4-4e49-c81b-65056d6c1625",
        "papermill": {
          "duration": 1.189633,
          "end_time": "2023-04-23T22:00:47.101707",
          "exception": false,
          "start_time": "2023-04-23T22:00:45.912074",
          "status": "completed"
        },
        "tags": []
      },
      "outputs": [
        {
          "data": {
            "image/png": "[encoded data removed]",
            "text/plain": [
              "<Figure size 1600x800 with 1 Axes>"
            ]
          },
          "metadata": {},
          "output_type": "display_data"
        }
      ],
      "source": [
        "plt.figure(figsize=(16, 8))\n",
        "sns.countplot(x ='release_year', data = df)\n",
        "plt.xticks(rotation = 90)\n",
        "plt.show()"
      ]
    },
    {
      "cell_type": "markdown",
      "id": "ce2447ce",
      "metadata": {
        "id": "ce2447ce",
        "papermill": {
          "duration": 0.02564,
          "end_time": "2023-04-23T22:00:47.152362",
          "exception": false,
          "start_time": "2023-04-23T22:00:47.126722",
          "status": "completed"
        },
        "tags": []
      },
      "source": [
        "## 4.2 For categorical variable(s): Boxplot"
      ]
    },
    {
      "cell_type": "code",
      "execution_count": null,
      "id": "f22f7e35",
      "metadata": {
        "execution": {
          "iopub.execute_input": "2023-04-23T22:00:47.204444Z",
          "iopub.status.busy": "2023-04-23T22:00:47.203464Z",
          "iopub.status.idle": "2023-04-23T22:00:47.674213Z",
          "shell.execute_reply": "2023-04-23T22:00:47.672893Z"
        },
        "id": "f22f7e35",
        "outputId": "e1cef59f-ab37-4cf6-a45e-5e7afd4622a2",
        "papermill": {
          "duration": 0.498738,
          "end_time": "2023-04-23T22:00:47.676775",
          "exception": false,
          "start_time": "2023-04-23T22:00:47.178037",
          "status": "completed"
        },
        "tags": []
      },
      "outputs": [
        {
          "data": {
            "text/plain": [
              "<AxesSubplot:xlabel='rating', ylabel='duration'>"
            ]
          },
          "execution_count": 40,
          "metadata": {},
          "output_type": "execute_result"
        },
        {
          "data": {
            "image/png": "[encoded data removed]",
            "text/plain": [
              "<Figure size 1500x800 with 1 Axes>"
            ]
          },
          "metadata": {},
          "output_type": "display_data"
        }
      ],
      "source": [
        "plt.figure(figsize=(15,8))\n",
        "sns.boxplot(x = df['rating'], y = df['duration'])"
      ]
    },
    {
      "cell_type": "code",
      "execution_count": null,
      "id": "4b9a4ade",
      "metadata": {
        "execution": {
          "iopub.execute_input": "2023-04-23T22:00:47.729926Z",
          "iopub.status.busy": "2023-04-23T22:00:47.728518Z",
          "iopub.status.idle": "2023-04-23T22:00:47.938313Z",
          "shell.execute_reply": "2023-04-23T22:00:47.937095Z"
        },
        "id": "4b9a4ade",
        "outputId": "31e1221b-cc25-44a2-a9f8-c14641a384ee",
        "papermill": {
          "duration": 0.238984,
          "end_time": "2023-04-23T22:00:47.940883",
          "exception": false,
          "start_time": "2023-04-23T22:00:47.701899",
          "status": "completed"
        },
        "tags": []
      },
      "outputs": [
        {
          "data": {
            "text/plain": [
              "<AxesSubplot:xlabel='type', ylabel='duration'>"
            ]
          },
          "execution_count": 41,
          "metadata": {},
          "output_type": "execute_result"
        },
        {
          "data": {
            "image/png": "[encoded data removed]",
            "text/plain": [
              "<Figure size 640x480 with 1 Axes>"
            ]
          },
          "metadata": {},
          "output_type": "display_data"
        }
      ],
      "source": [
        "# plt.figure(figsize=(15,8))\n",
        "sns.boxplot(x = df.loc[df['type'] == 'Movie', 'type'], y = df['duration'])"
      ]
    },
    {
      "cell_type": "code",
      "execution_count": null,
      "id": "cffc412c",
      "metadata": {
        "execution": {
          "iopub.execute_input": "2023-04-23T22:00:47.993963Z",
          "iopub.status.busy": "2023-04-23T22:00:47.993491Z",
          "iopub.status.idle": "2023-04-23T22:00:48.197566Z",
          "shell.execute_reply": "2023-04-23T22:00:48.196561Z"
        },
        "id": "cffc412c",
        "outputId": "7f8eae32-dec1-4fd9-8edb-4da85e9bea62",
        "papermill": {
          "duration": 0.233493,
          "end_time": "2023-04-23T22:00:48.200225",
          "exception": false,
          "start_time": "2023-04-23T22:00:47.966732",
          "status": "completed"
        },
        "tags": []
      },
      "outputs": [
        {
          "data": {
            "text/plain": [
              "<AxesSubplot:xlabel='type', ylabel='duration'>"
            ]
          },
          "execution_count": 42,
          "metadata": {},
          "output_type": "execute_result"
        },
        {
          "data": {
            "image/png": "[encoded data removed]",
            "text/plain": [
              "<Figure size 640x480 with 1 Axes>"
            ]
          },
          "metadata": {},
          "output_type": "display_data"
        }
      ],
      "source": [
        "# plt.figure(figsize=(15,8))\n",
        "sns.boxplot(x = df.loc[df['type'] == 'TV Show', 'type'], y = df['duration'])"
      ]
    },
    {
      "cell_type": "markdown",
      "id": "b1418a2e",
      "metadata": {
        "id": "b1418a2e",
        "papermill": {
          "duration": 0.02634,
          "end_time": "2023-04-23T22:00:48.252800",
          "exception": false,
          "start_time": "2023-04-23T22:00:48.226460",
          "status": "completed"
        },
        "tags": []
      },
      "source": [
        "## 4.3 For correlation: Heatmaps, Pairplots"
      ]
    },
    {
      "cell_type": "code",
      "execution_count": null,
      "id": "734751f9",
      "metadata": {
        "execution": {
          "iopub.execute_input": "2023-04-23T22:00:48.307444Z",
          "iopub.status.busy": "2023-04-23T22:00:48.306655Z",
          "iopub.status.idle": "2023-04-23T22:00:48.577850Z",
          "shell.execute_reply": "2023-04-23T22:00:48.576465Z"
        },
        "id": "734751f9",
        "outputId": "6805a87b-83b9-4a05-cd13-9eb77db81af5",
        "papermill": {
          "duration": 0.302016,
          "end_time": "2023-04-23T22:00:48.580835",
          "exception": false,
          "start_time": "2023-04-23T22:00:48.278819",
          "status": "completed"
        },
        "tags": []
      },
      "outputs": [
        {
          "data": {
            "text/plain": [
              "<AxesSubplot:>"
            ]
          },
          "execution_count": 43,
          "metadata": {},
          "output_type": "execute_result"
        },
        {
          "data": {
            "image/png": "[encoded data removed]",
            "text/plain": [
              "<Figure size 640x480 with 2 Axes>"
            ]
          },
          "metadata": {},
          "output_type": "display_data"
        }
      ],
      "source": [
        "sns.heatmap( updated_df.corr() , annot=True,linewidth = 0.5 , cmap = 'coolwarm' )\n"
      ]
    },
    {
      "cell_type": "code",
      "execution_count": null,
      "id": "6fc12eab",
      "metadata": {
        "execution": {
          "iopub.execute_input": "2023-04-23T22:00:48.636964Z",
          "iopub.status.busy": "2023-04-23T22:00:48.636259Z",
          "iopub.status.idle": "2023-04-23T22:01:21.954451Z",
          "shell.execute_reply": "2023-04-23T22:01:21.953061Z"
        },
        "id": "6fc12eab",
        "outputId": "68be1511-59ed-4dd9-9089-0c16dd9f61b7",
        "papermill": {
          "duration": 33.380244,
          "end_time": "2023-04-23T22:01:21.987351",
          "exception": false,
          "start_time": "2023-04-23T22:00:48.607107",
          "status": "completed"
        },
        "tags": []
      },
      "outputs": [
        {
          "data": {
            "text/plain": [
              "<seaborn.axisgrid.PairGrid at 0x7d665aee5310>"
            ]
          },
          "execution_count": 44,
          "metadata": {},
          "output_type": "execute_result"
        },
        {
          "data": {
            "image/png": "[encoded data removed]",
            "text/plain": [
              "<Figure size 609.875x500 with 6 Axes>"
            ]
          },
          "metadata": {},
          "output_type": "display_data"
        }
      ],
      "source": [
        "sns.pairplot(updated_df, hue = 'type')"
      ]
    },
    {
      "cell_type": "code",
      "execution_count": null,
      "id": "77bf80ea",
      "metadata": {
        "execution": {
          "iopub.execute_input": "2023-04-23T22:01:22.047735Z",
          "iopub.status.busy": "2023-04-23T22:01:22.046907Z",
          "iopub.status.idle": "2023-04-23T22:01:56.591912Z",
          "shell.execute_reply": "2023-04-23T22:01:56.590687Z"
        },
        "id": "77bf80ea",
        "outputId": "ff5ecc6a-4c22-47bf-a257-9147f2bb0b7d",
        "papermill": {
          "duration": 34.618295,
          "end_time": "2023-04-23T22:01:56.634094",
          "exception": false,
          "start_time": "2023-04-23T22:01:22.015799",
          "status": "completed"
        },
        "tags": []
      },
      "outputs": [
        {
          "data": {
            "text/plain": [
              "<seaborn.axisgrid.PairGrid at 0x7d6659cb5a50>"
            ]
          },
          "execution_count": 45,
          "metadata": {},
          "output_type": "execute_result"
        },
        {
          "data": {
            "image/png": "[encoded data removed]",
            "text/plain": [
              "<Figure size 610.125x500 with 6 Axes>"
            ]
          },
          "metadata": {},
          "output_type": "display_data"
        }
      ],
      "source": [
        "sns.pairplot(updated_df, hue = 'rating')"
      ]
    },
    {
      "cell_type": "markdown",
      "id": "07d606ad",
      "metadata": {
        "id": "07d606ad",
        "papermill": {
          "duration": 0.031301,
          "end_time": "2023-04-23T22:01:56.696337",
          "exception": false,
          "start_time": "2023-04-23T22:01:56.665036",
          "status": "completed"
        },
        "tags": []
      },
      "source": [
        "# 5. Missing Value & Outlier check\n",
        "\n",
        "---\n",
        "\n",
        "1. Director -> As their is a possibility of having 0 directors, So its been replaced by \"No Director\"\n",
        "2. Cast -> As their is a possibility of having 0 casts like in animated movies, So its been replaced by \"No Cast\"\n",
        "3. Country -> As their is a possibility of having no Country release, So its been replaced by \"No Country\"\n",
        "4. date_added -> It is replaced by Mean as  (2019-05-17 05:59:08.436967168)\n",
        "5. rating -> As it is a categorical data it is replaced by mode (TV-MA)\n",
        "\n",
        "\n"
      ]
    },
    {
      "cell_type": "code",
      "execution_count": null,
      "id": "5a94e20e",
      "metadata": {
        "execution": {
          "iopub.execute_input": "2023-04-23T22:01:56.763149Z",
          "iopub.status.busy": "2023-04-23T22:01:56.762101Z",
          "iopub.status.idle": "2023-04-23T22:01:56.772046Z",
          "shell.execute_reply": "2023-04-23T22:01:56.770856Z"
        },
        "id": "5a94e20e",
        "outputId": "b3fd3935-680b-48b6-939d-9acba9b2ba01",
        "papermill": {
          "duration": 0.046325,
          "end_time": "2023-04-23T22:01:56.774677",
          "exception": false,
          "start_time": "2023-04-23T22:01:56.728352",
          "status": "completed"
        },
        "tags": []
      },
      "outputs": [
        {
          "data": {
            "text/plain": [
              "Timestamp('2019-05-17 05:59:08.436967168')"
            ]
          },
          "execution_count": 46,
          "metadata": {},
          "output_type": "execute_result"
        }
      ],
      "source": [
        "df['date_added'].mean()"
      ]
    },
    {
      "cell_type": "code",
      "execution_count": null,
      "id": "55f4ec2b",
      "metadata": {
        "execution": {
          "iopub.execute_input": "2023-04-23T22:01:56.840775Z",
          "iopub.status.busy": "2023-04-23T22:01:56.839774Z",
          "iopub.status.idle": "2023-04-23T22:01:56.850592Z",
          "shell.execute_reply": "2023-04-23T22:01:56.849413Z"
        },
        "id": "55f4ec2b",
        "outputId": "fa495be2-5838-4188-e2b0-fba793aecbea",
        "papermill": {
          "duration": 0.046871,
          "end_time": "2023-04-23T22:01:56.853188",
          "exception": false,
          "start_time": "2023-04-23T22:01:56.806317",
          "status": "completed"
        },
        "tags": []
      },
      "outputs": [
        {
          "data": {
            "text/plain": [
              "0    TV-MA\n",
              "dtype: object"
            ]
          },
          "execution_count": 47,
          "metadata": {},
          "output_type": "execute_result"
        }
      ],
      "source": [
        "df['rating'].mode()"
      ]
    },
    {
      "cell_type": "code",
      "execution_count": null,
      "id": "7bdb8844",
      "metadata": {
        "execution": {
          "iopub.execute_input": "2023-04-23T22:01:56.919481Z",
          "iopub.status.busy": "2023-04-23T22:01:56.918436Z",
          "iopub.status.idle": "2023-04-23T22:01:57.044888Z",
          "shell.execute_reply": "2023-04-23T22:01:57.043590Z"
        },
        "id": "7bdb8844",
        "outputId": "1bbfb8e1-bf4c-4d7c-9546-e3a34402db3d",
        "papermill": {
          "duration": 0.163515,
          "end_time": "2023-04-23T22:01:57.047827",
          "exception": false,
          "start_time": "2023-04-23T22:01:56.884312",
          "status": "completed"
        },
        "tags": []
      },
      "outputs": [
        {
          "data": {
            "text/html": [
              "<div>\n",
              "<style scoped>\n",
              "    .dataframe tbody tr th:only-of-type {\n",
              "        vertical-align: middle;\n",
              "    }\n",
              "\n",
              "    .dataframe tbody tr th {\n",
              "        vertical-align: top;\n",
              "    }\n",
              "\n",
              "    .dataframe thead th {\n",
              "        text-align: right;\n",
              "    }\n",
              "</style>\n",
              "<table border=\"1\" class=\"dataframe\">\n",
              "  <thead>\n",
              "    <tr style=\"text-align: right;\">\n",
              "      <th></th>\n",
              "      <th>show_id</th>\n",
              "      <th>type</th>\n",
              "      <th>title</th>\n",
              "      <th>director</th>\n",
              "      <th>cast</th>\n",
              "      <th>country</th>\n",
              "      <th>date_added</th>\n",
              "      <th>release_year</th>\n",
              "      <th>rating</th>\n",
              "      <th>duration</th>\n",
              "      <th>listed_in</th>\n",
              "      <th>description</th>\n",
              "    </tr>\n",
              "  </thead>\n",
              "  <tbody>\n",
              "    <tr>\n",
              "      <th>Before Preprocessing</th>\n",
              "      <td>0</td>\n",
              "      <td>0</td>\n",
              "      <td>0</td>\n",
              "      <td>2634</td>\n",
              "      <td>825</td>\n",
              "      <td>831</td>\n",
              "      <td>0</td>\n",
              "      <td>0</td>\n",
              "      <td>0</td>\n",
              "      <td>0</td>\n",
              "      <td>0</td>\n",
              "      <td>0</td>\n",
              "    </tr>\n",
              "    <tr>\n",
              "      <th>After Preprocessing</th>\n",
              "      <td>0</td>\n",
              "      <td>0</td>\n",
              "      <td>0</td>\n",
              "      <td>0</td>\n",
              "      <td>0</td>\n",
              "      <td>0</td>\n",
              "      <td>0</td>\n",
              "      <td>0</td>\n",
              "      <td>0</td>\n",
              "      <td>0</td>\n",
              "      <td>0</td>\n",
              "      <td>0</td>\n",
              "    </tr>\n",
              "  </tbody>\n",
              "</table>\n",
              "</div>"
            ],
            "text/plain": [
              "                      show_id  type  title  director  cast  country  \\\n",
              "Before Preprocessing        0     0      0      2634   825      831   \n",
              "After Preprocessing         0     0      0         0     0        0   \n",
              "\n",
              "                      date_added  release_year  rating  duration  listed_in  \\\n",
              "Before Preprocessing           0             0       0         0          0   \n",
              "After Preprocessing            0             0       0         0          0   \n",
              "\n",
              "                      description  \n",
              "Before Preprocessing            0  \n",
              "After Preprocessing             0  "
            ]
          },
          "execution_count": 48,
          "metadata": {},
          "output_type": "execute_result"
        }
      ],
      "source": [
        "data = pd.DataFrame([df.isna().sum(), updated_df.isna().sum()], index = ['Before Preprocessing', 'After Preprocessing'])\n",
        "data"
      ]
    },
    {
      "cell_type": "markdown",
      "id": "ca962c2e",
      "metadata": {
        "id": "ca962c2e",
        "papermill": {
          "duration": 0.030916,
          "end_time": "2023-04-23T22:01:57.111963",
          "exception": false,
          "start_time": "2023-04-23T22:01:57.081047",
          "status": "completed"
        },
        "tags": []
      },
      "source": [
        "# 6. Insights based on Non-Graphical and Visual Analysis"
      ]
    },
    {
      "cell_type": "markdown",
      "id": "36673314",
      "metadata": {
        "id": "36673314",
        "papermill": {
          "duration": 0.033975,
          "end_time": "2023-04-23T22:01:57.177748",
          "exception": false,
          "start_time": "2023-04-23T22:01:57.143773",
          "status": "completed"
        },
        "tags": []
      },
      "source": [
        "## 6.1 Comments on the range of attributes"
      ]
    },
    {
      "cell_type": "code",
      "execution_count": null,
      "id": "571b6886",
      "metadata": {
        "execution": {
          "iopub.execute_input": "2023-04-23T22:01:57.244104Z",
          "iopub.status.busy": "2023-04-23T22:01:57.242648Z",
          "iopub.status.idle": "2023-04-23T22:01:57.256080Z",
          "shell.execute_reply": "2023-04-23T22:01:57.254495Z"
        },
        "id": "571b6886",
        "outputId": "3c95ab08-2d3f-4320-f449-4755475dff2f",
        "papermill": {
          "duration": 0.049414,
          "end_time": "2023-04-23T22:01:57.258715",
          "exception": false,
          "start_time": "2023-04-23T22:01:57.209301",
          "status": "completed"
        },
        "tags": []
      },
      "outputs": [
        {
          "data": {
            "text/plain": [
              "no director      2634\n",
              "Rajiv Chilaka      22\n",
              "Jan Suter          21\n",
              "Raúl Campos        19\n",
              "Name: director, dtype: int64"
            ]
          },
          "execution_count": 49,
          "metadata": {},
          "output_type": "execute_result"
        }
      ],
      "source": [
        "# Top 3 directors with most number of movies / Tv shows\n",
        "\n",
        "df_director['director'].value_counts()[:4]"
      ]
    },
    {
      "cell_type": "code",
      "execution_count": null,
      "id": "34950152",
      "metadata": {
        "execution": {
          "iopub.execute_input": "2023-04-23T22:01:57.323871Z",
          "iopub.status.busy": "2023-04-23T22:01:57.323120Z",
          "iopub.status.idle": "2023-04-23T22:01:57.358930Z",
          "shell.execute_reply": "2023-04-23T22:01:57.357575Z"
        },
        "id": "34950152",
        "outputId": "adbc5a6d-a2de-49e4-fc8a-b1e66de8ed80",
        "papermill": {
          "duration": 0.071179,
          "end_time": "2023-04-23T22:01:57.361440",
          "exception": false,
          "start_time": "2023-04-23T22:01:57.290261",
          "status": "completed"
        },
        "tags": []
      },
      "outputs": [
        {
          "data": {
            "text/plain": [
              "no cast           825\n",
              "Anupam Kher        43\n",
              "Shah Rukh Khan     35\n",
              "Julie Tejwani      33\n",
              "Name: cast, dtype: int64"
            ]
          },
          "execution_count": 50,
          "metadata": {},
          "output_type": "execute_result"
        }
      ],
      "source": [
        "# Top 3 actors with most number of movies/ TV shows\n",
        "\n",
        "df_cast['cast'].value_counts()[:4]"
      ]
    },
    {
      "cell_type": "code",
      "execution_count": null,
      "id": "b3ac6066",
      "metadata": {
        "execution": {
          "iopub.execute_input": "2023-04-23T22:01:57.429002Z",
          "iopub.status.busy": "2023-04-23T22:01:57.428296Z",
          "iopub.status.idle": "2023-04-23T22:01:57.438532Z",
          "shell.execute_reply": "2023-04-23T22:01:57.437202Z"
        },
        "id": "b3ac6066",
        "outputId": "bdb6d86a-96f7-448e-a0b2-d7f45460f017",
        "papermill": {
          "duration": 0.046357,
          "end_time": "2023-04-23T22:01:57.441119",
          "exception": false,
          "start_time": "2023-04-23T22:01:57.394762",
          "status": "completed"
        },
        "tags": []
      },
      "outputs": [
        {
          "data": {
            "text/plain": [
              "United States     3690\n",
              "India             1046\n",
              "no country         831\n",
              "United Kingdom     806\n",
              "Name: country, dtype: int64"
            ]
          },
          "execution_count": 51,
          "metadata": {},
          "output_type": "execute_result"
        }
      ],
      "source": [
        "# Top 3 countries with most number of movies/ TV shows\n",
        "\n",
        "df_country['country'].value_counts()[:4]"
      ]
    },
    {
      "cell_type": "code",
      "execution_count": null,
      "id": "b36dcf4a",
      "metadata": {
        "execution": {
          "iopub.execute_input": "2023-04-23T22:01:57.507706Z",
          "iopub.status.busy": "2023-04-23T22:01:57.507272Z",
          "iopub.status.idle": "2023-04-23T22:01:57.515920Z",
          "shell.execute_reply": "2023-04-23T22:01:57.514916Z"
        },
        "id": "b36dcf4a",
        "outputId": "785e48e0-0897-47bf-a421-33240c44d6d4",
        "papermill": {
          "duration": 0.044805,
          "end_time": "2023-04-23T22:01:57.518349",
          "exception": false,
          "start_time": "2023-04-23T22:01:57.473544",
          "status": "completed"
        },
        "tags": []
      },
      "outputs": [
        {
          "data": {
            "text/plain": [
              "TV-MA    3214\n",
              "TV-14    2160\n",
              "TV-PG     863\n",
              "Name: rating, dtype: int64"
            ]
          },
          "execution_count": 52,
          "metadata": {},
          "output_type": "execute_result"
        }
      ],
      "source": [
        "# Top 3 rating for most number of movies/ TV shows\n",
        "\n",
        "df['rating'].value_counts()[:3]"
      ]
    },
    {
      "cell_type": "code",
      "execution_count": null,
      "id": "9469245d",
      "metadata": {
        "execution": {
          "iopub.execute_input": "2023-04-23T22:01:57.584345Z",
          "iopub.status.busy": "2023-04-23T22:01:57.583581Z",
          "iopub.status.idle": "2023-04-23T22:01:57.595491Z",
          "shell.execute_reply": "2023-04-23T22:01:57.594405Z"
        },
        "id": "9469245d",
        "outputId": "0dad053f-b09d-4815-d581-c6c2927bc389",
        "papermill": {
          "duration": 0.047393,
          "end_time": "2023-04-23T22:01:57.597968",
          "exception": false,
          "start_time": "2023-04-23T22:01:57.550575",
          "status": "completed"
        },
        "tags": []
      },
      "outputs": [
        {
          "data": {
            "text/plain": [
              "International Movies    2752\n",
              "Dramas                  2427\n",
              "Comedies                1674\n",
              "Name: listed_in, dtype: int64"
            ]
          },
          "execution_count": 53,
          "metadata": {},
          "output_type": "execute_result"
        }
      ],
      "source": [
        "# Top 3 genre with most number of movies\n",
        "\n",
        "df_listed['listed_in'].value_counts()[:3]"
      ]
    },
    {
      "cell_type": "markdown",
      "id": "ca77fe1f",
      "metadata": {
        "id": "ca77fe1f",
        "papermill": {
          "duration": 0.031971,
          "end_time": "2023-04-23T22:01:57.663068",
          "exception": false,
          "start_time": "2023-04-23T22:01:57.631097",
          "status": "completed"
        },
        "tags": []
      },
      "source": [
        "## 6.2 Comments on the distribution of the variables and relationship between them"
      ]
    },
    {
      "cell_type": "code",
      "execution_count": null,
      "id": "98b615f7",
      "metadata": {
        "execution": {
          "iopub.execute_input": "2023-04-23T22:01:57.729674Z",
          "iopub.status.busy": "2023-04-23T22:01:57.728851Z",
          "iopub.status.idle": "2023-04-23T22:01:58.911292Z",
          "shell.execute_reply": "2023-04-23T22:01:58.909368Z"
        },
        "id": "98b615f7",
        "outputId": "2be3c8e1-7993-4c18-a64b-728fb9619512",
        "papermill": {
          "duration": 1.219021,
          "end_time": "2023-04-23T22:01:58.914124",
          "exception": false,
          "start_time": "2023-04-23T22:01:57.695103",
          "status": "completed"
        },
        "tags": []
      },
      "outputs": [
        {
          "data": {
            "image/png": "[encoded data removed]",
            "text/plain": [
              "<Figure size 1600x800 with 1 Axes>"
            ]
          },
          "metadata": {},
          "output_type": "display_data"
        }
      ],
      "source": [
        "# number of movies per year are incresing each year\n",
        "\n",
        "plt.figure(figsize=(16, 8))\n",
        "sns.countplot(x ='release_year', data = df)\n",
        "plt.xticks(rotation = 90)\n",
        "plt.show()\n",
        "\n",
        "# Due to pandamic occured in 2019-2022 their is a fall in movie productions."
      ]
    },
    {
      "cell_type": "code",
      "execution_count": null,
      "id": "bc0d6064",
      "metadata": {
        "execution": {
          "iopub.execute_input": "2023-04-23T22:01:58.980871Z",
          "iopub.status.busy": "2023-04-23T22:01:58.980435Z",
          "iopub.status.idle": "2023-04-23T22:01:58.999138Z",
          "shell.execute_reply": "2023-04-23T22:01:58.997790Z"
        },
        "id": "bc0d6064",
        "outputId": "d6c7332b-a3e1-4f34-cd77-c0ff7eab966d",
        "papermill": {
          "duration": 0.054841,
          "end_time": "2023-04-23T22:01:59.001559",
          "exception": false,
          "start_time": "2023-04-23T22:01:58.946718",
          "status": "completed"
        },
        "tags": []
      },
      "outputs": [
        {
          "name": "stdout",
          "output_type": "stream",
          "text": [
            " -------For TV Shows in seasons------- \n",
            "Tv show mean ->  1.764947683109118 | Tv show max ->  17.0 | Tv show min ->  1.0\n",
            "\n",
            " -------For Movies in Minutes------- \n",
            "Movies mean ->  99.56499755341706 | Movies max ->  312.0 | Movies min ->  3.0\n"
          ]
        }
      ],
      "source": [
        "# mean, max, min duration of movies\n",
        "\n",
        "# -------For TV Shows in seasons-------\n",
        "\n",
        "Tv_mean = df.loc[df['type'] == 'TV Show', 'duration'].mean()\n",
        "Tv_max = df.loc[df['type'] == 'TV Show', 'duration'].max()\n",
        "Tv_min = df.loc[df['type'] == 'TV Show', 'duration'].min()\n",
        "\n",
        "# -------For Movies in Minutes------- '\n",
        "\n",
        "Mov_mean = df.loc[df['type'] == 'Movie', 'duration'].mean()\n",
        "Mov_max = df.loc[df['type'] == 'Movie', 'duration'].max()\n",
        "Mov_min = df.loc[df['type'] == 'Movie', 'duration'].min()\n",
        "\n",
        "print(' -------For TV Shows in seasons------- ')\n",
        "print('Tv show mean -> ', Tv_mean, '| Tv show max -> ', Tv_max, '| Tv show min -> ', Tv_min)\n",
        "print()\n",
        "print(' -------For Movies in Minutes------- ')\n",
        "print('Movies mean -> ', Mov_mean, '| Movies max -> ', Mov_max, '| Movies min -> ', Mov_min)\n"
      ]
    },
    {
      "cell_type": "code",
      "execution_count": null,
      "id": "411f1c00",
      "metadata": {
        "execution": {
          "iopub.execute_input": "2023-04-23T22:01:59.069869Z",
          "iopub.status.busy": "2023-04-23T22:01:59.069113Z",
          "iopub.status.idle": "2023-04-23T22:01:59.079087Z",
          "shell.execute_reply": "2023-04-23T22:01:59.077904Z"
        },
        "id": "411f1c00",
        "outputId": "3d61bf10-9e1b-47c5-b545-cefa185f474a",
        "papermill": {
          "duration": 0.047629,
          "end_time": "2023-04-23T22:01:59.081857",
          "exception": false,
          "start_time": "2023-04-23T22:01:59.034228",
          "status": "completed"
        },
        "tags": []
      },
      "outputs": [
        {
          "data": {
            "text/plain": [
              "('TV-MA', 'UR', 'G')"
            ]
          },
          "execution_count": 56,
          "metadata": {},
          "output_type": "execute_result"
        }
      ],
      "source": [
        "# what mode, max, min rating\n",
        "\n",
        "df['rating'].mode()[0], df['rating'].max(), df['rating'].min()"
      ]
    },
    {
      "cell_type": "code",
      "execution_count": null,
      "id": "eedc2268",
      "metadata": {
        "execution": {
          "iopub.execute_input": "2023-04-23T22:01:59.151304Z",
          "iopub.status.busy": "2023-04-23T22:01:59.150221Z",
          "iopub.status.idle": "2023-04-23T22:01:59.161044Z",
          "shell.execute_reply": "2023-04-23T22:01:59.159678Z"
        },
        "id": "eedc2268",
        "outputId": "c3eb6263-f578-4c13-bdc1-fbc0663da308",
        "papermill": {
          "duration": 0.048215,
          "end_time": "2023-04-23T22:01:59.163587",
          "exception": false,
          "start_time": "2023-04-23T22:01:59.115372",
          "status": "completed"
        },
        "tags": []
      },
      "outputs": [
        {
          "data": {
            "text/plain": [
              "United States    3690\n",
              "Name: country, dtype: int64"
            ]
          },
          "execution_count": 57,
          "metadata": {},
          "output_type": "execute_result"
        }
      ],
      "source": [
        "# which country watches most movies?\n",
        "\n",
        "df_country['country'].value_counts()[:1]"
      ]
    },
    {
      "cell_type": "code",
      "execution_count": null,
      "id": "21dd4659",
      "metadata": {
        "execution": {
          "iopub.execute_input": "2023-04-23T22:01:59.232672Z",
          "iopub.status.busy": "2023-04-23T22:01:59.231588Z",
          "iopub.status.idle": "2023-04-23T22:01:59.698827Z",
          "shell.execute_reply": "2023-04-23T22:01:59.697564Z"
        },
        "id": "21dd4659",
        "outputId": "b7f9d407-1bfb-409c-cfc8-4c41875e97f5",
        "papermill": {
          "duration": 0.504726,
          "end_time": "2023-04-23T22:01:59.701527",
          "exception": false,
          "start_time": "2023-04-23T22:01:59.196801",
          "status": "completed"
        },
        "tags": []
      },
      "outputs": [
        {
          "data": {
            "text/plain": [
              "<AxesSubplot:xlabel='rating', ylabel='duration'>"
            ]
          },
          "execution_count": 58,
          "metadata": {},
          "output_type": "execute_result"
        },
        {
          "data": {
            "image/png": "[encoded data removed]",
            "text/plain": [
              "<Figure size 1500x800 with 1 Axes>"
            ]
          },
          "metadata": {},
          "output_type": "display_data"
        }
      ],
      "source": [
        "# Plot duratin vs ratings [boxplot] - which ratings has lowest median durating\n",
        "\n",
        "plt.figure(figsize=(15,8))\n",
        "sns.boxplot(x = df['rating'], y = df['duration'])\n",
        "\n",
        "# From below box plot the median of TV-Y, TV-Y7 has less medain as their may be have more outliers"
      ]
    },
    {
      "cell_type": "code",
      "execution_count": null,
      "id": "f9114292",
      "metadata": {
        "execution": {
          "iopub.execute_input": "2023-04-23T22:01:59.772843Z",
          "iopub.status.busy": "2023-04-23T22:01:59.772027Z",
          "iopub.status.idle": "2023-04-23T22:02:00.037036Z",
          "shell.execute_reply": "2023-04-23T22:02:00.035707Z"
        },
        "id": "f9114292",
        "outputId": "b49a0473-6149-421a-952c-699f1360aafe",
        "papermill": {
          "duration": 0.303593,
          "end_time": "2023-04-23T22:02:00.039590",
          "exception": false,
          "start_time": "2023-04-23T22:01:59.735997",
          "status": "completed"
        },
        "tags": []
      },
      "outputs": [
        {
          "data": {
            "text/plain": [
              "<AxesSubplot:>"
            ]
          },
          "execution_count": 59,
          "metadata": {},
          "output_type": "execute_result"
        },
        {
          "data": {
            "image/png": "[encoded data removed]",
            "text/plain": [
              "<Figure size 640x480 with 2 Axes>"
            ]
          },
          "metadata": {},
          "output_type": "display_data"
        }
      ],
      "source": [
        "# duration of movies/tv_shows is reducing as time/years are increasing - observed from correlation heatmap\n",
        "\n",
        "sns.heatmap( updated_df.corr() , annot=True,linewidth = 0.5 , cmap = 'coolwarm' )\n"
      ]
    },
    {
      "cell_type": "markdown",
      "id": "cee6812f",
      "metadata": {
        "id": "cee6812f",
        "papermill": {
          "duration": 0.033919,
          "end_time": "2023-04-23T22:02:00.107778",
          "exception": false,
          "start_time": "2023-04-23T22:02:00.073859",
          "status": "completed"
        },
        "tags": []
      },
      "source": [
        "## 6.3 Comments for each univariate and bivariate plot\n",
        "\n"
      ]
    },
    {
      "cell_type": "markdown",
      "id": "f5589e0a",
      "metadata": {
        "id": "f5589e0a",
        "papermill": {
          "duration": 0.035217,
          "end_time": "2023-04-23T22:02:00.178782",
          "exception": false,
          "start_time": "2023-04-23T22:02:00.143565",
          "status": "completed"
        },
        "tags": []
      },
      "source": [
        "1. As years are going new movies are adding\n",
        "2. Average Duration of seasons for TV SHOWS is 1.76\n",
        "3. Average Duration for MOVIES in Minutes is 99.56\n",
        "4. Duration of movies/tv_shows is reducing as time/years are increasing - observed from correlation heatmap\n",
        "5. The median of TV-Y, TV-Y7 has less medain as their may be have more outliers"
      ]
    },
    {
      "cell_type": "markdown",
      "id": "57e73ffe",
      "metadata": {
        "id": "57e73ffe",
        "papermill": {
          "duration": 0.034344,
          "end_time": "2023-04-23T22:02:00.247923",
          "exception": false,
          "start_time": "2023-04-23T22:02:00.213579",
          "status": "completed"
        },
        "tags": []
      },
      "source": [
        "# 7. Business Insights - Should include patterns observed in the data along with what you can infer from it"
      ]
    },
    {
      "cell_type": "code",
      "execution_count": null,
      "id": "ab5a05b8",
      "metadata": {
        "execution": {
          "iopub.execute_input": "2023-04-23T22:02:00.319018Z",
          "iopub.status.busy": "2023-04-23T22:02:00.318565Z",
          "iopub.status.idle": "2023-04-23T22:02:00.343166Z",
          "shell.execute_reply": "2023-04-23T22:02:00.341921Z"
        },
        "id": "ab5a05b8",
        "outputId": "aac43e47-2c60-42c5-840c-3b0264dc8833",
        "papermill": {
          "duration": 0.063194,
          "end_time": "2023-04-23T22:02:00.345640",
          "exception": false,
          "start_time": "2023-04-23T22:02:00.282446",
          "status": "completed"
        },
        "tags": []
      },
      "outputs": [
        {
          "data": {
            "text/plain": [
              "no director      188\n",
              "Rajiv Chilaka     22\n",
              "Jan Suter         21\n",
              "Name: director, dtype: int64"
            ]
          },
          "execution_count": 60,
          "metadata": {},
          "output_type": "execute_result"
        }
      ],
      "source": [
        "# best director according to number of movies\n",
        "directors = pd.merge(df[['title', 'type']], df_director, on = 'title')\n",
        "directors.loc[directors['type'] == 'Movie', 'director'].value_counts()[:3]"
      ]
    },
    {
      "cell_type": "code",
      "execution_count": null,
      "id": "18278e11",
      "metadata": {
        "execution": {
          "iopub.execute_input": "2023-04-23T22:02:00.417388Z",
          "iopub.status.busy": "2023-04-23T22:02:00.416686Z",
          "iopub.status.idle": "2023-04-23T22:02:00.427829Z",
          "shell.execute_reply": "2023-04-23T22:02:00.426656Z"
        },
        "id": "18278e11",
        "outputId": "9c386e72-e4d9-4460-a3c3-45cb0a1a138e",
        "papermill": {
          "duration": 0.050323,
          "end_time": "2023-04-23T22:02:00.430273",
          "exception": false,
          "start_time": "2023-04-23T22:02:00.379950",
          "status": "completed"
        },
        "tags": []
      },
      "outputs": [
        {
          "data": {
            "text/plain": [
              "no director            2446\n",
              "Alastair Fothergill       3\n",
              "Ken Burns                 3\n",
              "Name: director, dtype: int64"
            ]
          },
          "execution_count": 61,
          "metadata": {},
          "output_type": "execute_result"
        }
      ],
      "source": [
        "# best director according to number of movies\n",
        "directors.loc[directors['type'] == 'TV Show', 'director'].value_counts()[:3]"
      ]
    },
    {
      "cell_type": "code",
      "execution_count": null,
      "id": "53400f4d",
      "metadata": {
        "execution": {
          "iopub.execute_input": "2023-04-23T22:02:00.501690Z",
          "iopub.status.busy": "2023-04-23T22:02:00.500980Z",
          "iopub.status.idle": "2023-04-23T22:02:00.512154Z",
          "shell.execute_reply": "2023-04-23T22:02:00.510981Z"
        },
        "id": "53400f4d",
        "outputId": "1af69f4e-2e59-407d-c428-116bfb25ae04",
        "papermill": {
          "duration": 0.049776,
          "end_time": "2023-04-23T22:02:00.514534",
          "exception": false,
          "start_time": "2023-04-23T22:02:00.464758",
          "status": "completed"
        },
        "tags": []
      },
      "outputs": [
        {
          "data": {
            "text/plain": [
              "International Movies    2752\n",
              "Dramas                  2427\n",
              "Comedies                1674\n",
              "Name: listed_in, dtype: int64"
            ]
          },
          "execution_count": 62,
          "metadata": {},
          "output_type": "execute_result"
        }
      ],
      "source": [
        "# most viewed genre\n",
        "df_listed['listed_in'].value_counts()[:3]"
      ]
    },
    {
      "cell_type": "code",
      "execution_count": null,
      "id": "203fb30e",
      "metadata": {
        "execution": {
          "iopub.execute_input": "2023-04-23T22:02:00.585361Z",
          "iopub.status.busy": "2023-04-23T22:02:00.584927Z",
          "iopub.status.idle": "2023-04-23T22:02:00.640627Z",
          "shell.execute_reply": "2023-04-23T22:02:00.639253Z"
        },
        "id": "203fb30e",
        "outputId": "f245c178-e53d-4cbe-c995-3e22900d71f6",
        "papermill": {
          "duration": 0.094465,
          "end_time": "2023-04-23T22:02:00.643439",
          "exception": false,
          "start_time": "2023-04-23T22:02:00.548974",
          "status": "completed"
        },
        "tags": []
      },
      "outputs": [
        {
          "data": {
            "text/plain": [
              "no cast             475\n",
              "Anupam Kher          42\n",
              "Shah Rukh Khan       35\n",
              "Naseeruddin Shah     32\n",
              "Name: cast, dtype: int64"
            ]
          },
          "execution_count": 63,
          "metadata": {},
          "output_type": "execute_result"
        }
      ],
      "source": [
        "# best actor according to number of movies\n",
        "actors = pd.merge(df[['title', 'type']], df_cast, on = 'title')\n",
        "actors.loc[actors['type'] == 'Movie', 'cast'].value_counts()[:4]"
      ]
    },
    {
      "cell_type": "code",
      "execution_count": null,
      "id": "8454be5b",
      "metadata": {
        "execution": {
          "iopub.execute_input": "2023-04-23T22:02:00.715648Z",
          "iopub.status.busy": "2023-04-23T22:02:00.714837Z",
          "iopub.status.idle": "2023-04-23T22:02:00.738309Z",
          "shell.execute_reply": "2023-04-23T22:02:00.737001Z"
        },
        "id": "8454be5b",
        "outputId": "5f796353-642a-4ba0-ab74-7cb1259179ce",
        "papermill": {
          "duration": 0.062762,
          "end_time": "2023-04-23T22:02:00.741163",
          "exception": false,
          "start_time": "2023-04-23T22:02:00.678401",
          "status": "completed"
        },
        "tags": []
      },
      "outputs": [
        {
          "data": {
            "text/plain": [
              "no cast             350\n",
              "Takahiro Sakurai     25\n",
              "Yuki Kaji            19\n",
              "Daisuke Ono          17\n",
              "Name: cast, dtype: int64"
            ]
          },
          "execution_count": 64,
          "metadata": {},
          "output_type": "execute_result"
        }
      ],
      "source": [
        "# best actor according to number of TV Shows\n",
        "actors.loc[actors['type'] == 'TV Show', 'cast'].value_counts()[:4]"
      ]
    },
    {
      "cell_type": "code",
      "execution_count": null,
      "id": "73e6a716",
      "metadata": {
        "execution": {
          "iopub.execute_input": "2023-04-23T22:02:00.814939Z",
          "iopub.status.busy": "2023-04-23T22:02:00.814230Z",
          "iopub.status.idle": "2023-04-23T22:02:00.824418Z",
          "shell.execute_reply": "2023-04-23T22:02:00.823391Z"
        },
        "id": "73e6a716",
        "outputId": "b5105f9b-e31e-4c2e-9ebe-1b4dd8f248b8",
        "papermill": {
          "duration": 0.049898,
          "end_time": "2023-04-23T22:02:00.826884",
          "exception": false,
          "start_time": "2023-04-23T22:02:00.776986",
          "status": "completed"
        },
        "tags": []
      },
      "outputs": [
        {
          "data": {
            "text/plain": [
              "United States     3690\n",
              "India             1046\n",
              "no country         831\n",
              "United Kingdom     806\n",
              "Name: country, dtype: int64"
            ]
          },
          "execution_count": 65,
          "metadata": {},
          "output_type": "execute_result"
        }
      ],
      "source": [
        "df_country['country'].value_counts()[:4]"
      ]
    },
    {
      "cell_type": "code",
      "execution_count": null,
      "id": "82b6d95a",
      "metadata": {
        "execution": {
          "iopub.execute_input": "2023-04-23T22:02:00.899771Z",
          "iopub.status.busy": "2023-04-23T22:02:00.898948Z",
          "iopub.status.idle": "2023-04-23T22:02:00.952944Z",
          "shell.execute_reply": "2023-04-23T22:02:00.951586Z"
        },
        "id": "82b6d95a",
        "outputId": "080963f7-0ecd-49e6-d065-ac5d6821ce0e",
        "papermill": {
          "duration": 0.093474,
          "end_time": "2023-04-23T22:02:00.955474",
          "exception": false,
          "start_time": "2023-04-23T22:02:00.862000",
          "status": "completed"
        },
        "tags": []
      },
      "outputs": [
        {
          "data": {
            "text/html": [
              "<div>\n",
              "<style scoped>\n",
              "    .dataframe tbody tr th:only-of-type {\n",
              "        vertical-align: middle;\n",
              "    }\n",
              "\n",
              "    .dataframe tbody tr th {\n",
              "        vertical-align: top;\n",
              "    }\n",
              "\n",
              "    .dataframe thead th {\n",
              "        text-align: right;\n",
              "    }\n",
              "</style>\n",
              "<table border=\"1\" class=\"dataframe\">\n",
              "  <thead>\n",
              "    <tr style=\"text-align: right;\">\n",
              "      <th></th>\n",
              "      <th>country</th>\n",
              "      <th>content</th>\n",
              "    </tr>\n",
              "  </thead>\n",
              "  <tbody>\n",
              "    <tr>\n",
              "      <th>0</th>\n",
              "      <td></td>\n",
              "      <td>TV Dramas</td>\n",
              "    </tr>\n",
              "    <tr>\n",
              "      <th>1</th>\n",
              "      <td>Afghanistan</td>\n",
              "      <td>International Movies</td>\n",
              "    </tr>\n",
              "    <tr>\n",
              "      <th>2</th>\n",
              "      <td>Albania</td>\n",
              "      <td>International Movies</td>\n",
              "    </tr>\n",
              "    <tr>\n",
              "      <th>3</th>\n",
              "      <td>Algeria</td>\n",
              "      <td>International Movies</td>\n",
              "    </tr>\n",
              "    <tr>\n",
              "      <th>4</th>\n",
              "      <td>Angola</td>\n",
              "      <td>International Movies</td>\n",
              "    </tr>\n",
              "    <tr>\n",
              "      <th>...</th>\n",
              "      <td>...</td>\n",
              "      <td>...</td>\n",
              "    </tr>\n",
              "    <tr>\n",
              "      <th>119</th>\n",
              "      <td>Venezuela</td>\n",
              "      <td>Thrillers</td>\n",
              "    </tr>\n",
              "    <tr>\n",
              "      <th>120</th>\n",
              "      <td>Vietnam</td>\n",
              "      <td>Thrillers</td>\n",
              "    </tr>\n",
              "    <tr>\n",
              "      <th>121</th>\n",
              "      <td>West Germany</td>\n",
              "      <td>Thrillers</td>\n",
              "    </tr>\n",
              "    <tr>\n",
              "      <th>122</th>\n",
              "      <td>Zimbabwe</td>\n",
              "      <td>Romantic Movies</td>\n",
              "    </tr>\n",
              "    <tr>\n",
              "      <th>123</th>\n",
              "      <td>no country</td>\n",
              "      <td>Thrillers</td>\n",
              "    </tr>\n",
              "  </tbody>\n",
              "</table>\n",
              "<p>124 rows × 2 columns</p>\n",
              "</div>"
            ],
            "text/plain": [
              "          country               content\n",
              "0                             TV Dramas\n",
              "1     Afghanistan  International Movies\n",
              "2         Albania  International Movies\n",
              "3         Algeria  International Movies\n",
              "4          Angola  International Movies\n",
              "..            ...                   ...\n",
              "119     Venezuela             Thrillers\n",
              "120       Vietnam             Thrillers\n",
              "121  West Germany             Thrillers\n",
              "122      Zimbabwe       Romantic Movies\n",
              "123    no country             Thrillers\n",
              "\n",
              "[124 rows x 2 columns]"
            ]
          },
          "execution_count": 66,
          "metadata": {},
          "output_type": "execute_result"
        }
      ],
      "source": [
        "# Understanding what content is available in different countries\n",
        "\n",
        "data = pd.merge(df_country, df_listed, on = 'title')\n",
        "content = data.groupby('country')[['listed_in']].aggregate(\n",
        "    content = ('listed_in', 'max')\n",
        ").reset_index()\n",
        "\n",
        "content"
      ]
    },
    {
      "cell_type": "code",
      "execution_count": null,
      "id": "a7080ca1",
      "metadata": {
        "execution": {
          "iopub.execute_input": "2023-04-23T22:02:01.028974Z",
          "iopub.status.busy": "2023-04-23T22:02:01.027673Z",
          "iopub.status.idle": "2023-04-23T22:02:01.041496Z",
          "shell.execute_reply": "2023-04-23T22:02:01.040521Z"
        },
        "id": "a7080ca1",
        "outputId": "8d7ca6b8-2700-4846-fbe5-87cc21e9de58",
        "papermill": {
          "duration": 0.053023,
          "end_time": "2023-04-23T22:02:01.043840",
          "exception": false,
          "start_time": "2023-04-23T22:02:00.990817",
          "status": "completed"
        },
        "tags": []
      },
      "outputs": [
        {
          "data": {
            "text/html": [
              "<div>\n",
              "<style scoped>\n",
              "    .dataframe tbody tr th:only-of-type {\n",
              "        vertical-align: middle;\n",
              "    }\n",
              "\n",
              "    .dataframe tbody tr th {\n",
              "        vertical-align: top;\n",
              "    }\n",
              "\n",
              "    .dataframe thead th {\n",
              "        text-align: right;\n",
              "    }\n",
              "</style>\n",
              "<table border=\"1\" class=\"dataframe\">\n",
              "  <thead>\n",
              "    <tr style=\"text-align: right;\">\n",
              "      <th></th>\n",
              "      <th>country</th>\n",
              "      <th>content</th>\n",
              "    </tr>\n",
              "  </thead>\n",
              "  <tbody>\n",
              "    <tr>\n",
              "      <th>46</th>\n",
              "      <td>India</td>\n",
              "      <td>Thrillers</td>\n",
              "    </tr>\n",
              "    <tr>\n",
              "      <th>115</th>\n",
              "      <td>United Kingdom</td>\n",
              "      <td>Thrillers</td>\n",
              "    </tr>\n",
              "    <tr>\n",
              "      <th>116</th>\n",
              "      <td>United States</td>\n",
              "      <td>Thrillers</td>\n",
              "    </tr>\n",
              "  </tbody>\n",
              "</table>\n",
              "</div>"
            ],
            "text/plain": [
              "            country    content\n",
              "46            India  Thrillers\n",
              "115  United Kingdom  Thrillers\n",
              "116   United States  Thrillers"
            ]
          },
          "execution_count": 67,
          "metadata": {},
          "output_type": "execute_result"
        }
      ],
      "source": [
        "content.loc[(content['country'] == 'United States') | (content['country'] == 'India') | (content['country'] == 'United Kingdom')]"
      ]
    },
    {
      "cell_type": "code",
      "execution_count": null,
      "id": "2cbc8fd0",
      "metadata": {
        "execution": {
          "iopub.execute_input": "2023-04-23T22:02:01.117437Z",
          "iopub.status.busy": "2023-04-23T22:02:01.116610Z",
          "iopub.status.idle": "2023-04-23T22:02:01.121372Z",
          "shell.execute_reply": "2023-04-23T22:02:01.120488Z"
        },
        "id": "2cbc8fd0",
        "papermill": {
          "duration": 0.044008,
          "end_time": "2023-04-23T22:02:01.123693",
          "exception": false,
          "start_time": "2023-04-23T22:02:01.079685",
          "status": "completed"
        },
        "tags": []
      },
      "outputs": [],
      "source": [
        "# best director  [most ratings, most movies]\n",
        "# most viewed genre  [most ratings, most movies]\n",
        "# best actor - [most ratings, most movies]\n",
        "# number of movies per year are incresing each year\n",
        "\n",
        "# diferentiate director, actors based on tv_show/ movie\n",
        "# which country watches most movies? netflix should release more movies in these places.\n",
        "#"
      ]
    },
    {
      "cell_type": "markdown",
      "id": "1c40f643",
      "metadata": {
        "id": "1c40f643",
        "papermill": {
          "duration": 0.035148,
          "end_time": "2023-04-23T22:02:01.194284",
          "exception": false,
          "start_time": "2023-04-23T22:02:01.159136",
          "status": "completed"
        },
        "tags": []
      },
      "source": [
        "# 8. Recommendations - Actionable items for business. No technical jargon. No complications. Simple action items that everyone can understand"
      ]
    },
    {
      "cell_type": "markdown",
      "id": "a005e41d",
      "metadata": {
        "id": "a005e41d",
        "papermill": {
          "duration": 0.035468,
          "end_time": "2023-04-23T22:02:01.266481",
          "exception": false,
          "start_time": "2023-04-23T22:02:01.231013",
          "status": "completed"
        },
        "tags": []
      },
      "source": [
        "1. Rajiv Chilaka, Jan Suter are considered as best directors according to more number of Movie releases i.e 22, 21 respectively. So these directors movies could help in grow bussiness for netflix\n",
        "\n",
        "2. Alastair Fothergill, Ken Burns are considered as best directors according to more number of TV Show releases i.e 3, 3 respectively. So these directors TV Shows are benificial to the Netflix bussiness\n",
        "3. International Movies (2752), Dramas (2427),\n",
        "Comedies (1674), are mostly viewed genre in Netflix, So movies with these genre has more demand\n",
        "4. Anupam Kher (42), Shah Rukh Khan (35), Naseeruddin Shah(32) are the best actors according to most number of movie releases and has good fan base, So these actors movies could help grow bussiness\n",
        "5. Takahiro Sakurai (25), Yuki Kaji (19), Daisuke Ono (17) are the best actors according to most number of TV SHow releases, So these actors TV Show help build bussiness.\n",
        "6. United States (3690), India (1046), United Kingdom (806) these countries have the highest releases. So their is no risk of amount burn either in marketing or sales coz its already done.\n",
        "7. Due to pandamic occured in 2019-2022 their is a fall in movie productions.\n"
      ]
    },
    {
      "cell_type": "code",
      "execution_count": null,
      "id": "ce04cdcd",
      "metadata": {
        "id": "ce04cdcd",
        "papermill": {
          "duration": 0.035619,
          "end_time": "2023-04-23T22:02:01.338193",
          "exception": false,
          "start_time": "2023-04-23T22:02:01.302574",
          "status": "completed"
        },
        "tags": []
      },
      "outputs": [],
      "source": []
    }
  ],
  "metadata": {
    "kernelspec": {
      "display_name": "Python 3",
      "language": "python",
      "name": "python3"
    },
    "language_info": {
      "codemirror_mode": {
        "name": "ipython",
        "version": 3
      },
      "file_extension": ".py",
      "mimetype": "text/x-python",
      "name": "python",
      "nbconvert_exporter": "python",
      "pygments_lexer": "ipython3",
      "version": "3.7.12"
    },
    "papermill": {
      "default_parameters": {},
      "duration": 93.66829,
      "end_time": "2023-04-23T22:02:02.298323",
      "environment_variables": {},
      "exception": null,
      "input_path": "__notebook__.ipynb",
      "output_path": "__notebook__.ipynb",
      "parameters": {},
      "start_time": "2023-04-23T22:00:28.630033",
      "version": "2.4.0"
    },
    "colab": {
      "provenance": [],
      "include_colab_link": true
    }
  },
  "nbformat": 4,
  "nbformat_minor": 5
}