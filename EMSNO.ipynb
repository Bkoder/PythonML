{
  "nbformat": 4,
  "nbformat_minor": 0,
  "metadata": {
    "colab": {
      "provenance": []
    },
    "kernelspec": {
      "name": "python3",
      "display_name": "Python 3"
    },
    "language_info": {
      "name": "python"
    }
  },
  "cells": [
    {
      "cell_type": "code",
      "execution_count": 95,
      "metadata": {
        "id": "IWxLZ9iOKHbT"
      },
      "outputs": [],
      "source": [
        "import cv2\n",
        "from google.colab.patches import cv2_imshow"
      ]
    },
    {
      "cell_type": "code",
      "source": [
        "img=cv2.imread(\"/content/red.png\")\n",
        "cv2.waitKey()\n",
        "cv2.destroyAllWindows()"
      ],
      "metadata": {
        "id": "W7dtLbCTPPqM"
      },
      "execution_count": 96,
      "outputs": []
    },
    {
      "cell_type": "code",
      "source": [
        "img.shape"
      ],
      "metadata": {
        "colab": {
          "base_uri": "https://localhost:8080/"
        },
        "id": "_6K0QwabPiIa",
        "outputId": "283aa2c2-d537-4f3c-ef3c-a24a642e102e"
      },
      "execution_count": 97,
      "outputs": [
        {
          "output_type": "execute_result",
          "data": {
            "text/plain": [
              "(1080, 1920, 3)"
            ]
          },
          "metadata": {},
          "execution_count": 97
        }
      ]
    },
    {
      "cell_type": "code",
      "source": [
        "img[100,100]"
      ],
      "metadata": {
        "colab": {
          "base_uri": "https://localhost:8080/"
        },
        "id": "ScWEMq9vPjpY",
        "outputId": "bec17e85-5302-4081-8de4-74cfbdcf54a9"
      },
      "execution_count": 98,
      "outputs": [
        {
          "output_type": "execute_result",
          "data": {
            "text/plain": [
              "array([  0,   0, 255], dtype=uint8)"
            ]
          },
          "metadata": {},
          "execution_count": 98
        }
      ]
    },
    {
      "cell_type": "code",
      "source": [
        "B,G,R= img[100,100]"
      ],
      "metadata": {
        "id": "hzmKGpPAPoui"
      },
      "execution_count": 99,
      "outputs": []
    },
    {
      "cell_type": "code",
      "source": [
        "B"
      ],
      "metadata": {
        "colab": {
          "base_uri": "https://localhost:8080/"
        },
        "id": "x8919tJWQEn-",
        "outputId": "6256f89d-2eae-4830-de45-042afb04c872"
      },
      "execution_count": 100,
      "outputs": [
        {
          "output_type": "execute_result",
          "data": {
            "text/plain": [
              "0"
            ]
          },
          "metadata": {},
          "execution_count": 100
        }
      ]
    },
    {
      "cell_type": "code",
      "source": [
        "G"
      ],
      "metadata": {
        "colab": {
          "base_uri": "https://localhost:8080/"
        },
        "id": "E9XA8B90QFGA",
        "outputId": "45e1930d-2851-4e1f-a7b4-fc33972675f7"
      },
      "execution_count": 101,
      "outputs": [
        {
          "output_type": "execute_result",
          "data": {
            "text/plain": [
              "0"
            ]
          },
          "metadata": {},
          "execution_count": 101
        }
      ]
    },
    {
      "cell_type": "code",
      "source": [
        "R"
      ],
      "metadata": {
        "colab": {
          "base_uri": "https://localhost:8080/"
        },
        "id": "fpojZLsaQM57",
        "outputId": "baa6433a-c833-4101-ee35-04aa788b9afb"
      },
      "execution_count": 102,
      "outputs": [
        {
          "output_type": "execute_result",
          "data": {
            "text/plain": [
              "255"
            ]
          },
          "metadata": {},
          "execution_count": 102
        }
      ]
    },
    {
      "cell_type": "code",
      "source": [
        "def calc(B,G,R):\n",
        "  if(B>145 and B>182):\n",
        "    if(G>18 and G>105):\n",
        "     if(R<256 and R>245):\n",
        "      print(\"High\")\n",
        "  \n",
        "  if(B>145 and B<182):\n",
        "    if(G>18 and G<105):\n",
        "      if(R<256 and R>245):\n",
        "        print(\"Medium\")\n",
        "  else:\n",
        "    print(\"Low\")\n"
      ],
      "metadata": {
        "id": "odfN7JMnQNaA"
      },
      "execution_count": 103,
      "outputs": []
    },
    {
      "cell_type": "code",
      "source": [
        "if(B>132 and B<204):\n",
        "  if(G>19 and G<193):\n",
        "    if(R>198 and R<256):\n",
        "      print(\"You uploaded a valid pink color.\")\n",
        "      calc(B,G,R)\n",
        "\n",
        "else:\n",
        "  print(\"Not a valid pink color.\")\n"
      ],
      "metadata": {
        "colab": {
          "base_uri": "https://localhost:8080/"
        },
        "id": "Lkhc-DzLQk8V",
        "outputId": "83b2e0dc-b3b0-4686-9c97-2d3842f72f20"
      },
      "execution_count": 104,
      "outputs": [
        {
          "output_type": "stream",
          "name": "stdout",
          "text": [
            "Not a valid pink color.\n"
          ]
        }
      ]
    }
  ]
}